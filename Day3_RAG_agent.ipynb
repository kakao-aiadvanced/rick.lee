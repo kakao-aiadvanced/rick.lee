{
  "cells": [
    {
      "cell_type": "markdown",
      "id": "0216de30-29cf-4464-9cc3-6e9a6d6c3e40",
      "metadata": {
        "id": "0216de30-29cf-4464-9cc3-6e9a6d6c3e40"
      },
      "source": [
        "# Local RAG agent with LLaMA3\n",
        "\n",
        "https://github.com/langchain-ai/langgraph/blob/main/examples/rag/langgraph_rag_agent_llama3_local.ipynb\n",
        "의 코드를 조금 수정한 파일입니다.\n",
        "\n",
        "We'll combine ideas from paper RAG papers into a RAG agent:\n",
        "\n",
        "- **Routing:**  Adaptive RAG ([paper](https://arxiv.org/abs/2403.14403)). Route questions to different retrieval approaches\n",
        "- **Fallback:** Corrective RAG ([paper](https://arxiv.org/pdf/2401.15884.pdf)). Fallback to web search if docs are not relevant to query\n",
        "- **Self-correction:** Self-RAG ([paper](https://arxiv.org/abs/2310.11511)). Fix answers w/ hallucinations or don’t address question\n",
        "\n",
        "![langgraph_adaptive_rag.png](attachment:7b00797e-fb85-4474-9a9e-c505b61add81.png)\n",
        "\n",
        "## Local models\n",
        "\n",
        "#### Embedding\n",
        "\n",
        "[GPT4All Embeddings](https://blog.nomic.ai/posts/nomic-embed-text-v1):\n",
        "\n",
        "```\n",
        "pip install langchain-nomic\n",
        "```\n",
        "\n",
        "### LLM\n",
        "\n",
        "Use [Ollama](https://ollama.ai/) and [llama3](https://ollama.ai/library/llama3):\n",
        "\n",
        "```\n",
        "ollama pull llama3\n",
        "```\n",
        "\n",
        "Prompt -\n",
        "\n",
        "https://llama.meta.com/docs/model-cards-and-prompt-formats/meta-llama-3/"
      ]
    },
    {
      "cell_type": "code",
      "execution_count": null,
      "id": "7771c6e4",
      "metadata": {
        "id": "7771c6e4"
      },
      "outputs": [],
      "source": [
        "%%capture --no-stderr\n",
        "%pip install langchain-nomic langchain_community tiktoken langchainhub chromadb langchain langgraph tavily-python langchain-text-splitters gpt4all arxiv"
      ]
    },
    {
      "cell_type": "markdown",
      "id": "52e80407",
      "metadata": {
        "id": "52e80407"
      },
      "source": [
        "검색엔진 Tavily 소개:\n",
        "\n",
        "Langchain 에도 Tavily loader / tool 이 있는데, 작성 시점에서는 실행 오류가 있어서 tavily python을 직접 사용\n",
        "\n",
        "quickstart\n",
        "- 아래 코드의 실행 결과를 확인해보세요\n",
        "- response_context, response_qna 는 그냥 response 와 어떻게 다른지 확인해보세요.\n",
        "\n",
        "참고: https://github.com/tavily-ai/tavily-python\n",
        "\n",
        "Sign up and get free (up to 1000) API key at: https://tavily.com/"
      ]
    },
    {
      "cell_type": "code",
      "execution_count": null,
      "id": "5d1bba03",
      "metadata": {
        "id": "5d1bba03"
      },
      "outputs": [],
      "source": [
        "from tavily import TavilyClient\n",
        "tavily = TavilyClient(api_key='api_key')\n",
        "\n",
        "response = tavily.search(query=\"Where does Messi play right now?\", max_results=3)\n",
        "context = [{\"url\": obj[\"url\"], \"content\": obj[\"content\"]} for obj in response['results']]\n",
        "\n",
        "# You can easily get search result context based on any max tokens straight into your RAG.\n",
        "# The response is a string of the context within the max_token limit.\n",
        "\n",
        "response_context = tavily.get_search_context(query=\"Where does Messi play right now?\", search_depth=\"advanced\", max_tokens=500)\n",
        "\n",
        "# You can also get a simple answer to a question including relevant sources all with a simple function call:\n",
        "# You can use it for baseline\n",
        "response_qna = tavily.qna_search(query=\"Where does Messi play right now?\")\n"
      ]
    },
    {
      "cell_type": "code",
      "execution_count": null,
      "id": "e397c2e8",
      "metadata": {
        "id": "e397c2e8",
        "outputId": "ecef366d-a14a-41c5-da32-c7797323335e"
      },
      "outputs": [
        {
          "data": {
            "text/plain": [
              "{'query': 'Where does Messi play right now?',\n",
              " 'follow_up_questions': None,\n",
              " 'answer': None,\n",
              " 'images': None,\n",
              " 'results': [{'title': 'Where will Lionel Messi play in 2024? Cities, stadiums Inter Miami ...',\n",
              "   'url': 'https://www.sportingnews.com/us/soccer/news/where-lionel-messi-play-2024-inter-miami-cities-road-schedule/23334c5768cebee9021e71d0',\n",
              "   'content': \"Here is how Inter Miami's road schedule will look for the coming regular season:\\nInter Miami home stadium for 2024 MLS season\\nFor their home matches through the 2024 campaign, Inter Miami will once again play at\\xa0DRV PNK Stadium in Fort Lauderdale, Florida.\\n Cities, stadiums Inter Miami visit on road MLS schedule for new season\\nWith Lionel Messi set to embark on his first full season with Inter Miami, fans across the United States will be clamoring to see when the Argentine superstar will visit their city in 2024.\\n MLS Season Pass is separate from Apple TV+, meaning those with Apple TV+ would still need an MLS Season Pass subscription to access the complete slate of games, while those without Apple TV+ can still sign up for MLS Season Pass without needing a full Apple TV+ subscription.\\n SUBSCRIBE TO MLS SEASON PASS NOW\\nApple TV is the official home of the MLS regular season and playoffs, with every match for every team available to stream around the world with no blackouts. How to watch Inter Miami in 2024 MLS season\\nLast season, Major League Soccer kicked off a 10-year broadcast rights deal with Apple that sees every single match for the next decade streamed exclusively on Apple's streaming platform.\\n\",\n",
              "   'score': 0.98934,\n",
              "   'raw_content': None},\n",
              "  {'title': 'Is Lionel Messi playing today? Status for next Inter Miami game in 2024 ...',\n",
              "   'url': 'https://www.sportingnews.com/us/soccer/news/lionel-messi-playing-today-inter-miami-game-2024/129c2c378fee4d1f0102aa9d',\n",
              "   'content': '* Lionel Messi did not participate. Inter Miami schedule for Leagues Cup. The 2024 Leagues Cup is scheduled to begin on July 26, running for a month while the MLS season pauses play.. The final ...',\n",
              "   'score': 0.98133,\n",
              "   'raw_content': None},\n",
              "  {'title': 'Lionel Messi joins Inter Miami: Schedule, MLS tickets to see him play',\n",
              "   'url': 'https://www.usatoday.com/story/sports/mls/2023/06/07/lionel-messi-inter-miami-schedule-tickets/70299298007/',\n",
              "   'content': 'Lionel Messi joins Inter Miami: Full schedule, MLS tickets to see Messi play in US\\nLionel Messi\\xa0is taking his talents to South Beach.\\nMessi,\\xa0the 2022 World Cup champion, announced on Wednesday that he will join Major League Soccer\\'s Inter Miami CF, a pro soccer club owned by David Beckham, after exiting Ligue 1\\'s Paris Saint-Germain following two seasons.\\n Tickets to Inter Miami\\'s game on June 10 range from $40-$55, but the price tag to see Inter Miami play LigaMX\\'s Cruz Azul on July 21 soared to $495 in anticipation of what\\'s expected to be Messi\\'s first home game, TicketSmarter CEO Jeff Goodman told USA TODAY Sports.\\n Each team will play a minimum of two games in the group stage, similar to the World Cup format, with the possibility of more games if the team advances to the knockout rounds.\\n \"\\nAccording to Goodman, nearly 2,000 Inter Miami tickets sold on TicketSmarter the day of Messi\\'s announcement Wednesday, compared to under 50 tickets being sold on the platform over the weekend.\\n If the Barcelona thing didn\\'t work out, I wanted to leave Europe, get out of the spotlight and think more of my family.',\n",
              "   'score': 0.97703,\n",
              "   'raw_content': None}],\n",
              " 'response_time': 0.9}"
            ]
          },
          "execution_count": 26,
          "metadata": {},
          "output_type": "execute_result"
        }
      ],
      "source": [
        "response"
      ]
    },
    {
      "cell_type": "markdown",
      "id": "e002ca5a",
      "metadata": {
        "id": "e002ca5a"
      },
      "source": [
        "Arxiv loader quickstar\n",
        "\n",
        "- ArxivAPIWrapper\n",
        "- ArxivLoader\n",
        "- Agent - tool\n",
        "\n",
        "https://python.langchain.com/v0.2/docs/integrations/document_loaders/arxiv/\n",
        "https://python.langchain.com/v0.2/docs/integrations/tools/arxiv/"
      ]
    },
    {
      "cell_type": "code",
      "execution_count": null,
      "id": "12c89ede",
      "metadata": {
        "id": "12c89ede",
        "outputId": "4ec7d3eb-d693-4592-a61e-b9021c3448ce"
      },
      "outputs": [
        {
          "data": {
            "text/plain": [
              "'Published: 2023-08-02\\nTitle: Attention Is All You Need\\nAuthors: Ashish Vaswani, Noam Shazeer, Niki Parmar, Jakob Uszkoreit, Llion Jones, Aidan N. Gomez, Lukasz Kaiser, Illia Polosukhin\\nSummary: The dominant sequence transduction models are based on complex recurrent or\\nconvolutional neural networks in an encoder-decoder configuration. The best\\nperforming models also connect the encoder and decoder through an attention\\nmechanism. We propose a new simple network architecture, the Transformer, based\\nsolely on attention mechanisms, dispensing with recurrence and convolutions\\nentirely. Experiments on two machine translation tasks show these models to be\\nsuperior in quality while being more parallelizable and requiring significantly\\nless time to train. Our model achieves 28.4 BLEU on the WMT 2014\\nEnglish-to-German translation task, improving over the existing best results,\\nincluding ensembles by over 2 BLEU. On the WMT 2014 English-to-French\\ntranslation task, our model establishes a new single-model state-of-the-art\\nBLEU score of 41.8 after training for 3.5 days on eight GPUs, a small fraction\\nof the training costs of the best models from the literature. We show that the\\nTransformer generalizes well to other tasks by applying it successfully to\\nEnglish constituency parsing both with large and limited training data.'"
            ]
          },
          "execution_count": 27,
          "metadata": {},
          "output_type": "execute_result"
        }
      ],
      "source": [
        "from langchain_community.utilities import ArxivAPIWrapper\n",
        "arxiv = ArxivAPIWrapper()\n",
        "docs = arxiv.run(\"1706.03762\")\n",
        "docs"
      ]
    },
    {
      "cell_type": "code",
      "execution_count": null,
      "id": "bb8cb31e",
      "metadata": {
        "id": "bb8cb31e",
        "outputId": "6b4beba6-d63c-4590-ad25-e19466eea8ab"
      },
      "outputs": [
        {
          "data": {
            "text/plain": [
              "\"Published: 2023-08-07\\nTitle: LoRA-FA: Memory-efficient Low-rank Adaptation for Large Language Models Fine-tuning\\nAuthors: Longteng Zhang, Lin Zhang, Shaohuai Shi, Xiaowen Chu, Bo Li\\nSummary: The low-rank adaptation (LoRA) method can largely reduce the amount of\\ntrainable parameters for fine-tuning large language models (LLMs), however, it\\nstill requires expensive activation memory to update low-rank weights. Reducing\\nthe number of LoRA layers or using activation recomputation could harm the\\nfine-tuning performance or increase the computational overhead. In this work,\\nwe present LoRA-FA, a memory-efficient fine-tuning method that reduces the\\nactivation memory without performance degradation and expensive recomputation.\\nLoRA-FA chooses to freeze the projection-down weight of $A$ and update the\\nprojection-up weight of $B$ in each LoRA layer. It ensures the change of model\\nweight reside in a low-rank space during LLMs fine-tuning, while eliminating\\nthe requirement to store full-rank input activations. We conduct extensive\\nexperiments across multiple model types (RoBERTa, T5, LLaMA) and model scales.\\nOur results show that LoRA-FA can always achieve close fine-tuning accuracy\\nacross different tasks compared to full parameter fine-tuning and LoRA.\\nFurthermore, LoRA-FA can reduce the overall memory cost by up to 1.4$\\\\times$\\ncompared to LoRA.\\n\\nPublished: 2024-04-29\\nTitle: LoRA Land: 310 Fine-tuned LLMs that Rival GPT-4, A Technical Report\\nAuthors: Justin Zhao, Timothy Wang, Wael Abid, Geoffrey Angus, Arnav Garg, Jeffery Kinnison, Alex Sherstinsky, Piero Molino, Travis Addair, Devvret Rishi\\nSummary: Low Rank Adaptation (LoRA) has emerged as one of the most widely adopted\\nmethods for Parameter Efficient Fine-Tuning (PEFT) of Large Language Models\\n(LLMs). LoRA reduces the number of trainable parameters and memory usage while\\nachieving comparable performance to full fine-tuning. We aim to assess the\\nviability of training and serving LLMs fine-tuned with LoRA in real-world\\napplications. First, we measure the quality of LLMs fine-tuned with quantized\\nlow rank adapters across 10 base models and 31 tasks for a total of 310 models.\\nWe find that 4-bit LoRA fine-tuned models outperform base models by 34 points\\nand GPT-4 by 10 points on average. Second, we investigate the most effective\\nbase models for fine-tuning and assess the correlative and predictive\\ncapacities of task complexity heuristics in forecasting the outcomes of\\nfine-tuning. Finally, we evaluate the latency and concurrency capabilities of\\nLoRAX, an open-source Multi-LoRA inference server that facilitates the\\ndeployment of multiple LoRA fine-tuned models on a single GPU using shared base\\nmodel weights and dynamic adapter loading. LoRAX powers LoRA Land, a web\\napplication that hosts 25 LoRA fine-tuned Mistral-7B LLMs on a single NVIDIA\\nA100 GPU with 80GB memory. LoRA Land highlights the quality and\\ncost-effectiveness of employing multiple specialized LLMs over a single,\\ngeneral-purpose LLM.\\n\\nPublished: 2024-01-08\\nTitle: Chain of LoRA: Efficient Fine-tuning of Language Models via Residual Learning\\nAuthors: Wenhan Xia, Chengwei Qin, Elad Hazan\\nSummary: Fine-tuning is the primary methodology for tailoring pre-trained large\\nlanguage models to specific tasks. As the model's scale and the diversity of\\ntasks expand, parameter-efficient fine-tuning methods are of paramount\\nimportance. One of the most widely used family of methods is low-rank\\nadaptation (LoRA) and its variants. LoRA encodes weight update as the product\\nof two low-rank matrices. Despite its advantages, LoRA falls short of\\nfull-parameter fine-tuning in terms of generalization error for certain tasks.\\n  We introduce Chain of LoRA (COLA), an iterative optimization framework\\ninspired by the Frank-Wolfe algorithm, to bridge the gap between LoRA and full\\nparameter fine-tuning, without incurring additional computational costs or\\nmemory overheads. COLA employs a residual learning procedure where it merges\\nlearned LoRA modules into the p\""
            ]
          },
          "execution_count": 28,
          "metadata": {},
          "output_type": "execute_result"
        }
      ],
      "source": [
        "docs = arxiv.run(\"Lora fine tuning\")\n",
        "docs"
      ]
    },
    {
      "cell_type": "code",
      "execution_count": null,
      "id": "a938bc09",
      "metadata": {
        "id": "a938bc09"
      },
      "outputs": [],
      "source": [
        "from langchain_community.document_loaders import ArxivLoader\n",
        "\n",
        "docs = ArxivLoader(query=\"1706.03762\", load_max_docs=2).load()\n",
        "docs"
      ]
    },
    {
      "cell_type": "code",
      "execution_count": null,
      "id": "e7a683d0",
      "metadata": {
        "id": "e7a683d0",
        "outputId": "b6dd421c-ce10-42da-9dc2-dcadb4457e3a"
      },
      "outputs": [
        {
          "data": {
            "text/plain": [
              "{'Published': '2023-08-02',\n",
              " 'Title': 'Attention Is All You Need',\n",
              " 'Authors': 'Ashish Vaswani, Noam Shazeer, Niki Parmar, Jakob Uszkoreit, Llion Jones, Aidan N. Gomez, Lukasz Kaiser, Illia Polosukhin',\n",
              " 'Summary': 'The dominant sequence transduction models are based on complex recurrent or\\nconvolutional neural networks in an encoder-decoder configuration. The best\\nperforming models also connect the encoder and decoder through an attention\\nmechanism. We propose a new simple network architecture, the Transformer, based\\nsolely on attention mechanisms, dispensing with recurrence and convolutions\\nentirely. Experiments on two machine translation tasks show these models to be\\nsuperior in quality while being more parallelizable and requiring significantly\\nless time to train. Our model achieves 28.4 BLEU on the WMT 2014\\nEnglish-to-German translation task, improving over the existing best results,\\nincluding ensembles by over 2 BLEU. On the WMT 2014 English-to-French\\ntranslation task, our model establishes a new single-model state-of-the-art\\nBLEU score of 41.8 after training for 3.5 days on eight GPUs, a small fraction\\nof the training costs of the best models from the literature. We show that the\\nTransformer generalizes well to other tasks by applying it successfully to\\nEnglish constituency parsing both with large and limited training data.'}"
            ]
          },
          "execution_count": 30,
          "metadata": {},
          "output_type": "execute_result"
        }
      ],
      "source": [
        "docs[0].metadata  # meta-information of the Document"
      ]
    },
    {
      "cell_type": "code",
      "execution_count": null,
      "id": "0b488fd0",
      "metadata": {
        "id": "0b488fd0"
      },
      "outputs": [],
      "source": [
        "from langchain import hub\n",
        "from langchain.agents import AgentExecutor, create_react_agent, load_tools\n",
        "from langchain_openai import ChatOpenAI\n",
        "from langchain_core.prompts import PromptTemplate\n",
        "\n",
        "import os\n",
        "\n",
        "os.environ['OPENAI_API_KEY'] = ''\n",
        "\n",
        "llm = ChatOpenAI(temperature=0.0)\n",
        "tools = load_tools(\n",
        "    [\"arxiv\"],\n",
        ")\n",
        "# hub 에서 가져다 쓸 수 있는데 가끔씩 api 에러 날 때가 있음\n",
        "# prompt = hub.pull(\"hwchase17/react\")\n",
        "prompt = PromptTemplate(input_variables=['agent_scratchpad', 'input', 'tool_names', 'tools'], metadata={'lc_hub_owner': 'hwchase17', 'lc_hub_repo': 'react', 'lc_hub_commit_hash': 'd15fe3c426f1c4b3f37c9198853e4a86e20c425ca7f4752ec0c9b0e97ca7ea4d'}, template='Answer the following questions as best you can. You have access to the following tools:\\n\\n{tools}\\n\\nUse the following format:\\n\\nQuestion: the input question you must answer\\nThought: you should always think about what to do\\nAction: the action to take, should be one of [{tool_names}]\\nAction Input: the input to the action\\nObservation: the result of the action\\n... (this Thought/Action/Action Input/Observation can repeat N times)\\nThought: I now know the final answer\\nFinal Answer: the final answer to the original input question\\n\\nBegin!\\n\\nQuestion: {input}\\nThought:{agent_scratchpad}')\n",
        "\n",
        "agent = create_react_agent(llm, tools, prompt)\n",
        "agent_executor = AgentExecutor(agent=agent, tools=tools, verbose=True)"
      ]
    },
    {
      "cell_type": "code",
      "execution_count": null,
      "id": "c1cb7e57",
      "metadata": {
        "id": "c1cb7e57",
        "outputId": "d48ba5c7-290f-4440-bfc7-19a52e722122"
      },
      "outputs": [
        {
          "data": {
            "text/plain": [
              "PromptTemplate(input_variables=['agent_scratchpad', 'input', 'tool_names', 'tools'], metadata={'lc_hub_owner': 'hwchase17', 'lc_hub_repo': 'react', 'lc_hub_commit_hash': 'd15fe3c426f1c4b3f37c9198853e4a86e20c425ca7f4752ec0c9b0e97ca7ea4d'}, template='Answer the following questions as best you can. You have access to the following tools:\\n\\n{tools}\\n\\nUse the following format:\\n\\nQuestion: the input question you must answer\\nThought: you should always think about what to do\\nAction: the action to take, should be one of [{tool_names}]\\nAction Input: the input to the action\\nObservation: the result of the action\\n... (this Thought/Action/Action Input/Observation can repeat N times)\\nThought: I now know the final answer\\nFinal Answer: the final answer to the original input question\\n\\nBegin!\\n\\nQuestion: {input}\\nThought:{agent_scratchpad}')"
            ]
          },
          "execution_count": 32,
          "metadata": {},
          "output_type": "execute_result"
        }
      ],
      "source": [
        "prompt"
      ]
    },
    {
      "cell_type": "code",
      "execution_count": null,
      "id": "dfc6c71c",
      "metadata": {
        "id": "dfc6c71c",
        "outputId": "c2f257cf-b9e3-45f9-d48c-3ce2955bfff6"
      },
      "outputs": [
        {
          "name": "stdout",
          "output_type": "stream",
          "text": [
            "\n",
            "\n",
            "\u001b[1m> Entering new AgentExecutor chain...\u001b[0m\n",
            "\u001b[32;1m\u001b[1;3mI should use arxiv to search for the paper with the identifier 1706.03762.\n",
            "Action: arxiv\n",
            "Action Input: 1706.03762\u001b[0m\u001b[36;1m\u001b[1;3mPublished: 2023-08-02\n",
            "Title: Attention Is All You Need\n",
            "Authors: Ashish Vaswani, Noam Shazeer, Niki Parmar, Jakob Uszkoreit, Llion Jones, Aidan N. Gomez, Lukasz Kaiser, Illia Polosukhin\n",
            "Summary: The dominant sequence transduction models are based on complex recurrent or\n",
            "convolutional neural networks in an encoder-decoder configuration. The best\n",
            "performing models also connect the encoder and decoder through an attention\n",
            "mechanism. We propose a new simple network architecture, the Transformer, based\n",
            "solely on attention mechanisms, dispensing with recurrence and convolutions\n",
            "entirely. Experiments on two machine translation tasks show these models to be\n",
            "superior in quality while being more parallelizable and requiring significantly\n",
            "less time to train. Our model achieves 28.4 BLEU on the WMT 2014\n",
            "English-to-German translation task, improving over the existing best results,\n",
            "including ensembles by over 2 BLEU. On the WMT 2014 English-to-French\n",
            "translation task, our model establishes a new single-model state-of-the-art\n",
            "BLEU score of 41.8 after training for 3.5 days on eight GPUs, a small fraction\n",
            "of the training costs of the best models from the literature. We show that the\n",
            "Transformer generalizes well to other tasks by applying it successfully to\n",
            "English constituency parsing both with large and limited training data.\u001b[0m\u001b[32;1m\u001b[1;3mI have found the paper and it is about a new network architecture called the Transformer based on attention mechanisms.\n",
            "Final Answer: The paper 1706.03762 is about the Transformer network architecture based on attention mechanisms.\u001b[0m\n",
            "\n",
            "\u001b[1m> Finished chain.\u001b[0m\n"
          ]
        },
        {
          "data": {
            "text/plain": [
              "{'input': \"What's the paper 1706.03762 about?\",\n",
              " 'output': 'The paper 1706.03762 is about the Transformer network architecture based on attention mechanisms.'}"
            ]
          },
          "execution_count": 33,
          "metadata": {},
          "output_type": "execute_result"
        }
      ],
      "source": [
        "agent_executor.invoke(\n",
        "    {\n",
        "        \"input\": \"What's the paper 1706.03762 about?\",\n",
        "    }\n",
        ")"
      ]
    },
    {
      "cell_type": "code",
      "execution_count": null,
      "id": "21e597f9",
      "metadata": {
        "id": "21e597f9"
      },
      "outputs": [],
      "source": [
        "# will use llama3 model with Ollama\n",
        "local_llm = 'llama3'"
      ]
    },
    {
      "cell_type": "markdown",
      "id": "5bd42c79",
      "metadata": {
        "id": "5bd42c79"
      },
      "source": [
        "### Tracing (optional)"
      ]
    },
    {
      "cell_type": "code",
      "execution_count": null,
      "id": "333cbcf4",
      "metadata": {
        "id": "333cbcf4"
      },
      "outputs": [],
      "source": [
        "# import os\n",
        "\n",
        "# os.environ[\"LANGCHAIN_TRACING_V2\"] = \"true\"\n",
        "# os.environ[\"LANGCHAIN_ENDPOINT\"] = \"https://api.smith.langchain.com\"\n",
        "# os.environ[\"LANGCHAIN_API_KEY\"] = \"<your-api-key>\""
      ]
    },
    {
      "cell_type": "code",
      "execution_count": null,
      "id": "267c63e1-4c2f-439d-8d95-4c6aa01f41cf",
      "metadata": {
        "id": "267c63e1-4c2f-439d-8d95-4c6aa01f41cf"
      },
      "outputs": [],
      "source": [
        "### Index\n",
        "\n",
        "from langchain_community.document_loaders import WebBaseLoader\n",
        "from langchain_community.embeddings import GPT4AllEmbeddings\n",
        "from langchain_community.vectorstores import Chroma\n",
        "from langchain_text_splitters import RecursiveCharacterTextSplitter\n",
        "\n",
        "urls = [\n",
        "    \"https://lilianweng.github.io/posts/2023-06-23-agent/\",\n",
        "    \"https://lilianweng.github.io/posts/2023-03-15-prompt-engineering/\",\n",
        "    \"https://lilianweng.github.io/posts/2023-10-25-adv-attack-llm/\",\n",
        "]\n",
        "\n",
        "docs = [WebBaseLoader(url).load() for url in urls]\n",
        "docs_list = [item for sublist in docs for item in sublist]\n",
        "\n",
        "text_splitter = RecursiveCharacterTextSplitter.from_tiktoken_encoder(\n",
        "    chunk_size=250, chunk_overlap=0\n",
        ")\n",
        "doc_splits = text_splitter.split_documents(docs_list)\n",
        "\n",
        "# Add to vectorDB\n",
        "vectorstore = Chroma.from_documents(\n",
        "    documents=doc_splits,\n",
        "    collection_name=\"rag-chroma\",\n",
        "    embedding=GPT4AllEmbeddings(model_name=\"all-MiniLM-L6-v2.gguf2.f16.gguf\"),\n",
        ")\n",
        "retriever = vectorstore.as_retriever()"
      ]
    },
    {
      "cell_type": "code",
      "execution_count": null,
      "id": "a9c910c1-738c-4bf7-bf9e-801862b227eb",
      "metadata": {
        "id": "a9c910c1-738c-4bf7-bf9e-801862b227eb",
        "outputId": "c527e42f-27d7-4b55-a119-8516fe0fca7e"
      },
      "outputs": [
        {
          "name": "stderr",
          "output_type": "stream",
          "text": [
            "/opt/homebrew/lib/python3.9/site-packages/langchain_core/_api/deprecation.py:139: LangChainDeprecationWarning: The method `BaseRetriever.get_relevant_documents` was deprecated in langchain-core 0.1.46 and will be removed in 0.3.0. Use invoke instead.\n",
            "  warn_deprecated(\n"
          ]
        },
        {
          "name": "stdout",
          "output_type": "stream",
          "text": [
            "{'datasource': 'vectorstore'}\n"
          ]
        }
      ],
      "source": [
        "### Router\n",
        "\n",
        "from langchain_community.chat_models import ChatOllama\n",
        "from langchain_core.output_parsers import JsonOutputParser\n",
        "from langchain_core.prompts import PromptTemplate\n",
        "\n",
        "# LLM\n",
        "llm = ChatOllama(model=local_llm, format=\"json\", temperature=0)\n",
        "\n",
        "prompt = PromptTemplate(\n",
        "    template=\"\"\"<|begin_of_text|><|start_header_id|>system<|end_header_id|> You are an expert at routing a\n",
        "    user question to a vectorstore or web search. Use the vectorstore for questions on LLM  agents,\n",
        "    prompt engineering, and adversarial attacks. You do not need to be stringent with the keywords\n",
        "    in the question related to these topics. Otherwise, use web-search. Give a binary choice 'web_search'\n",
        "    or 'vectorstore' based on the question. Return the a JSON with a single key 'datasource' and\n",
        "    no premable or explanation. Question to route: {question} <|eot_id|><|start_header_id|>assistant<|end_header_id|>\"\"\",\n",
        "    input_variables=[\"question\"],\n",
        ")\n",
        "\n",
        "question_router = prompt | llm | JsonOutputParser()\n",
        "question = \"llm agent memory\"\n",
        "docs = retriever.get_relevant_documents(question)\n",
        "doc_txt = docs[1].page_content\n",
        "print(question_router.invoke({\"question\": question}))"
      ]
    },
    {
      "cell_type": "code",
      "execution_count": null,
      "id": "b008df98-8394-49da-8fb8-aefe2c90d03c",
      "metadata": {
        "id": "b008df98-8394-49da-8fb8-aefe2c90d03c",
        "outputId": "fb0507e1-7014-474e-e68b-c7fb73773cc9"
      },
      "outputs": [
        {
          "name": "stdout",
          "output_type": "stream",
          "text": [
            "{'score': 'yes'}\n"
          ]
        }
      ],
      "source": [
        "### Retrieval Grader\n",
        "\n",
        "from langchain_community.chat_models import ChatOllama\n",
        "from langchain_core.output_parsers import JsonOutputParser\n",
        "from langchain_core.prompts import PromptTemplate\n",
        "\n",
        "# LLM\n",
        "llm = ChatOllama(model=local_llm, format=\"json\", temperature=0)\n",
        "\n",
        "prompt = PromptTemplate(\n",
        "    template=\"\"\"<|begin_of_text|><|start_header_id|>system<|end_header_id|> You are a grader assessing relevance\n",
        "    of a retrieved document to a user question. If the document contains keywords related to the user question,\n",
        "    grade it as relevant. It does not need to be a stringent test. The goal is to filter out erroneous retrievals. \\n\n",
        "    Give a binary score 'yes' or 'no' score to indicate whether the document is relevant to the question. \\n\n",
        "    Provide the binary score as a JSON with a single key 'score' and no premable or explanation.\n",
        "     <|eot_id|><|start_header_id|>user<|end_header_id|>\n",
        "    Here is the retrieved document: \\n\\n {document} \\n\\n\n",
        "    Here is the user question: {question} \\n <|eot_id|><|start_header_id|>assistant<|end_header_id|>\n",
        "    \"\"\",\n",
        "    input_variables=[\"question\", \"document\"],\n",
        ")\n",
        "\n",
        "retrieval_grader = prompt | llm | JsonOutputParser()\n",
        "question = \"agent memory\"\n",
        "docs = retriever.invoke(question)\n",
        "doc_txt = docs[1].page_content\n",
        "print(retrieval_grader.invoke({\"question\": question, \"document\": doc_txt}))"
      ]
    },
    {
      "cell_type": "code",
      "execution_count": null,
      "id": "1d531a81-6d4d-405e-975a-01ef1c9679fa",
      "metadata": {
        "id": "1d531a81-6d4d-405e-975a-01ef1c9679fa",
        "outputId": "5df7fc4c-67e2-4859-93f6-97b2bb3cf744"
      },
      "outputs": [
        {
          "name": "stdout",
          "output_type": "stream",
          "text": [
            "According to the context, an agent's memory is a long-term memory module that records a comprehensive list of agents' experience in natural language. This allows agents to behave conditioned on past experience and interact with other agents.\n"
          ]
        }
      ],
      "source": [
        "### Generate\n",
        "\n",
        "\n",
        "from langchain_core.output_parsers import StrOutputParser\n",
        "from langchain_core.prompts import PromptTemplate\n",
        "\n",
        "# Prompt\n",
        "prompt = PromptTemplate(\n",
        "    template=\"\"\"<|begin_of_text|><|start_header_id|>system<|end_header_id|> You are an assistant for question-answering tasks.\n",
        "    Use the following pieces of retrieved context to answer the question. If you don't know the answer, just say that you don't know.\n",
        "    Use three sentences maximum and keep the answer concise <|eot_id|><|start_header_id|>user<|end_header_id|>\n",
        "    Question: {question}\n",
        "    Context: {context}\n",
        "    Answer: <|eot_id|><|start_header_id|>assistant<|end_header_id|>\"\"\",\n",
        "    input_variables=[\"question\", \"document\"],\n",
        ")\n",
        "\n",
        "llm = ChatOllama(model=local_llm, temperature=0)\n",
        "\n",
        "# Chain\n",
        "rag_chain = prompt | llm | StrOutputParser()\n",
        "\n",
        "# Run\n",
        "question = \"agent memory\"\n",
        "docs = retriever.invoke(question)\n",
        "generation = rag_chain.invoke({\"context\": docs, \"question\": question})\n",
        "print(generation)"
      ]
    },
    {
      "cell_type": "code",
      "execution_count": null,
      "id": "0261a9a4-de13-4dd8-b082-95305a3e43ca",
      "metadata": {
        "id": "0261a9a4-de13-4dd8-b082-95305a3e43ca",
        "outputId": "bf70548c-7568-4a5d-d3d1-c2335f28b5c9"
      },
      "outputs": [
        {
          "data": {
            "text/plain": [
              "{'score': 'yes'}"
            ]
          },
          "execution_count": 39,
          "metadata": {},
          "output_type": "execute_result"
        }
      ],
      "source": [
        "### Hallucination Grader\n",
        "\n",
        "# LLM\n",
        "llm = ChatOllama(model=local_llm, format=\"json\", temperature=0)\n",
        "\n",
        "# Prompt\n",
        "prompt = PromptTemplate(\n",
        "    template=\"\"\" <|begin_of_text|><|start_header_id|>system<|end_header_id|> You are a grader assessing whether\n",
        "    an answer is grounded in / supported by a set of facts. Give a binary 'yes' or 'no' score to indicate\n",
        "    whether the answer is grounded in / supported by a set of facts. Provide the binary score as a JSON with a\n",
        "    single key 'score' and no preamble or explanation. <|eot_id|><|start_header_id|>user<|end_header_id|>\n",
        "    Here are the facts:\n",
        "    \\n ------- \\n\n",
        "    {documents}\n",
        "    \\n ------- \\n\n",
        "    Here is the answer: {generation}  <|eot_id|><|start_header_id|>assistant<|end_header_id|>\"\"\",\n",
        "    input_variables=[\"generation\", \"documents\"],\n",
        ")\n",
        "\n",
        "hallucination_grader = prompt | llm | JsonOutputParser()\n",
        "hallucination_grader.invoke({\"documents\": docs, \"generation\": generation})"
      ]
    },
    {
      "cell_type": "code",
      "execution_count": null,
      "id": "df9f6944-4fee-4971-b3a7-2b81b44ed433",
      "metadata": {
        "id": "df9f6944-4fee-4971-b3a7-2b81b44ed433",
        "outputId": "0047c53f-11cd-4abd-bd62-b306c7c0e114"
      },
      "outputs": [
        {
          "data": {
            "text/plain": [
              "{'score': 'yes'}"
            ]
          },
          "execution_count": 40,
          "metadata": {},
          "output_type": "execute_result"
        }
      ],
      "source": [
        "### Answer Grader\n",
        "\n",
        "# LLM\n",
        "llm = ChatOllama(model=local_llm, format=\"json\", temperature=0)\n",
        "\n",
        "# Prompt\n",
        "prompt = PromptTemplate(\n",
        "    template=\"\"\"<|begin_of_text|><|start_header_id|>system<|end_header_id|> You are a grader assessing whether an\n",
        "    answer is useful to resolve a question. Give a binary score 'yes' or 'no' to indicate whether the answer is\n",
        "    useful to resolve a question. Provide the binary score as a JSON with a single key 'score' and no preamble or explanation.\n",
        "     <|eot_id|><|start_header_id|>user<|end_header_id|> Here is the answer:\n",
        "    \\n ------- \\n\n",
        "    {generation}\n",
        "    \\n ------- \\n\n",
        "    Here is the question: {question} <|eot_id|><|start_header_id|>assistant<|end_header_id|>\"\"\",\n",
        "    input_variables=[\"generation\", \"question\"],\n",
        ")\n",
        "\n",
        "answer_grader = prompt | llm | JsonOutputParser()\n",
        "answer_grader.invoke({\"question\": question, \"generation\": generation})"
      ]
    },
    {
      "cell_type": "markdown",
      "id": "ccd59cdf-a04d-4b2e-b9cc-6a1b1e80a6c6",
      "metadata": {
        "id": "ccd59cdf-a04d-4b2e-b9cc-6a1b1e80a6c6"
      },
      "source": [
        "We'll implement these as a control flow in LangGraph.\n",
        "\n",
        "An extension of langchain aimed at building robust and stateful multi-actor applications with LLMs by modeling steps as edges and nodes in a graph.\n",
        "\n",
        "Exposes high level interfaces for creating common types of agents, as well as a low-level API for composing custom flows.\n",
        "\n",
        "https://python.langchain.com/v0.2/docs/concepts/#langgraph"
      ]
    },
    {
      "cell_type": "code",
      "execution_count": null,
      "id": "07fa3d08-6a86-4705-a28b-e2721070bc5e",
      "metadata": {
        "id": "07fa3d08-6a86-4705-a28b-e2721070bc5e"
      },
      "outputs": [],
      "source": [
        "from pprint import pprint\n",
        "from typing import List\n",
        "\n",
        "from langchain_core.documents import Document\n",
        "from typing_extensions import TypedDict\n",
        "\n",
        "from langgraph.graph import END, StateGraph\n",
        "\n",
        "### State\n",
        "\n",
        "\n",
        "class GraphState(TypedDict):\n",
        "    \"\"\"\n",
        "    Represents the state of our graph.\n",
        "\n",
        "    Attributes:\n",
        "        question: question\n",
        "        generation: LLM generation\n",
        "        web_search: whether to add search\n",
        "        documents: list of documents\n",
        "    \"\"\"\n",
        "\n",
        "    question: str\n",
        "    generation: str\n",
        "    web_search: str\n",
        "    documents: List[str]\n",
        "\n",
        "\n",
        "### Nodes\n",
        "\n",
        "def retrieve(state):\n",
        "    \"\"\"\n",
        "    Retrieve documents from vectorstore\n",
        "\n",
        "    Args:\n",
        "        state (dict): The current graph state\n",
        "\n",
        "    Returns:\n",
        "        state (dict): New key added to state, documents, that contains retrieved documents\n",
        "    \"\"\"\n",
        "    print(\"---RETRIEVE---\")\n",
        "    question = state[\"question\"]\n",
        "\n",
        "    # Retrieval\n",
        "    documents = retriever.invoke(question)\n",
        "    return {\"documents\": documents, \"question\": question}\n",
        "\n",
        "\n",
        "def generate(state):\n",
        "    \"\"\"\n",
        "    Generate answer using RAG on retrieved documents\n",
        "\n",
        "    Args:\n",
        "        state (dict): The current graph state\n",
        "\n",
        "    Returns:\n",
        "        state (dict): New key added to state, generation, that contains LLM generation\n",
        "    \"\"\"\n",
        "    print(\"---GENERATE---\")\n",
        "    question = state[\"question\"]\n",
        "    documents = state[\"documents\"]\n",
        "\n",
        "    # RAG generation\n",
        "    generation = rag_chain.invoke({\"context\": documents, \"question\": question})\n",
        "    return {\"documents\": documents, \"question\": question, \"generation\": generation}\n",
        "\n",
        "\n",
        "def grade_documents(state):\n",
        "    \"\"\"\n",
        "    Determines whether the retrieved documents are relevant to the question\n",
        "    If any document is not relevant, we will set a flag to run web search\n",
        "\n",
        "    Args:\n",
        "        state (dict): The current graph state\n",
        "\n",
        "    Returns:\n",
        "        state (dict): Filtered out irrelevant documents and updated web_search state\n",
        "    \"\"\"\n",
        "\n",
        "    print(\"---CHECK DOCUMENT RELEVANCE TO QUESTION---\")\n",
        "    question = state[\"question\"]\n",
        "    documents = state[\"documents\"]\n",
        "\n",
        "    # Score each doc\n",
        "    filtered_docs = []\n",
        "    web_search = \"No\"\n",
        "    for d in documents:\n",
        "        score = retrieval_grader.invoke(\n",
        "            {\"question\": question, \"document\": d.page_content}\n",
        "        )\n",
        "        grade = score[\"score\"]\n",
        "        # Document relevant\n",
        "        if grade.lower() == \"yes\":\n",
        "            print(\"---GRADE: DOCUMENT RELEVANT---\")\n",
        "            filtered_docs.append(d)\n",
        "        # Document not relevant\n",
        "        else:\n",
        "            print(\"---GRADE: DOCUMENT NOT RELEVANT---\")\n",
        "            # We do not include the document in filtered_docs\n",
        "            # We set a flag to indicate that we want to run web search\n",
        "            web_search = \"Yes\"\n",
        "            continue\n",
        "    return {\"documents\": filtered_docs, \"question\": question, \"web_search\": web_search}\n",
        "\n",
        "\n",
        "def web_search(state):\n",
        "    \"\"\"\n",
        "    Web search based based on the question\n",
        "\n",
        "    Args:\n",
        "        state (dict): The current graph state\n",
        "\n",
        "    Returns:\n",
        "        state (dict): Appended web results to documents\n",
        "    \"\"\"\n",
        "\n",
        "    print(\"---WEB SEARCH---\")\n",
        "    question = state[\"question\"]\n",
        "    documents = state[\"documents\"]\n",
        "\n",
        "    # Web search\n",
        "    docs = tavily.search(query=question)['results']\n",
        "#    [{'title': 'Where will Lionel Messi play in 2024? Cities, stadiums Inter Miami ...', 'url': 'https://www.sportingnews.com/us/soccer/news/where-lionel-messi-play-2024-inter-miami-cities-road-schedule/23334c5768cebee9021e71d0', 'content': \"Here is how Inter Miami's road schedule will look for the coming regular season:\\nInter Miami home stadium for 2024 MLS season\\nFor their home matches through the 2024 campaign, Inter Miami will once again play at\\xa0DRV PNK Stadium in Fort Lauderdale, Florida.\\n Cities, stadiums Inter Miami visit on road MLS schedule for new season\\nWith Lionel Messi set to embark on his first full season with Inter Miami, fans across the United States will be clamoring to see when the Argentine superstar will visit their city in 2024.\\n MLS Season Pass is separate from Apple TV+, meaning those with Apple TV+ would still need an MLS Season Pass subscription to access the complete slate of games, while those without Apple TV+ can still sign up for MLS Season Pass without needing a full Apple TV+ subscription.\\n SUBSCRIBE TO MLS SEASON PASS NOW\\nApple TV is the official home of the MLS regular season and playoffs, with every match for every team available to stream around the world with no blackouts. How to watch Inter Miami in 2024 MLS season\\nLast season, Major League Soccer kicked off a 10-year broadcast rights deal with Apple that sees every single match for the next decade streamed exclusively on Apple's streaming platform.\\n\", 'score': 0.98612, 'raw_content': None}, {'title': 'Is Lionel Messi playing today? Status for next Inter Miami game in 2024 ...', 'url': 'https://www.sportingnews.com/us/soccer/news/lionel-messi-playing-today-inter-miami-game-2024/129c2c378fee4d1f0102aa9d', 'content': '* Lionel Messi did not participate. Inter Miami schedule for Leagues Cup. The 2024 Leagues Cup is scheduled to begin on July 26, running for a month while the MLS season pauses play.. The final ...', 'score': 0.98209, 'raw_content': None}, {'title': 'Lionel Messi joins Inter Miami: Schedule, MLS tickets to see him play', 'url': 'https://www.usatoday.com/story/sports/mls/2023/06/07/lionel-messi-inter-miami-schedule-tickets/70299298007/', 'content': 'Lionel Messi joins Inter Miami: Full schedule, MLS tickets to see Messi play in US\\nLionel Messi\\xa0is taking his talents to South Beach.\\nMessi,\\xa0the 2022 World Cup champion, announced on Wednesday that he will join Major League Soccer\\'s Inter Miami CF, a pro soccer club owned by David Beckham, after exiting Ligue 1\\'s Paris Saint-Germain following two seasons.\\n Tickets to Inter Miami\\'s game on June 10 range from $40-$55, but the price tag to see Inter Miami play LigaMX\\'s Cruz Azul on July 21 soared to $495 in anticipation of what\\'s expected to be Messi\\'s first home game, TicketSmarter CEO Jeff Goodman told USA TODAY Sports.\\n Each team will play a minimum of two games in the group stage, similar to the World Cup format, with the possibility of more games if the team advances to the knockout rounds.\\n \"\\nAccording to Goodman, nearly 2,000 Inter Miami tickets sold on TicketSmarter the day of Messi\\'s announcement Wednesday, compared to under 50 tickets being sold on the platform over the weekend.\\n If the Barcelona thing didn\\'t work out, I wanted to leave Europe, get out of the spotlight and think more of my family.', 'score': 0.97895, 'raw_content': None}, {'title': \"Lionel Messi's 2023 Inter Miami schedule: Every match in MLS, Leagues ...\", 'url': 'https://www.sportingnews.com/us/soccer/news/lionel-messi-2023-inter-miami-schedule/d3buao2mhfp7uculkdz3nsc4', 'content': \"MORE:\\xa0Trophies that Lionel Messi can win with Inter Miami in USA\\nLeagues Cup\\nIn his first three matches with Inter Miami, Lionel Messi lifted the club into the Leagues Cup Round of 16 thanks to three straight home wins that he helped orchestrate.\\n Edition\\nLionel Messi's 2023 Inter Miami schedule: Every match in MLS, Leagues Cup and U.S. Open Cup\\nLionel Messi is taking North America by storm after scoring in his first three matches for his new club Inter Miami CF.\\n MORE: Messi's Miami apartment | Messi's wife & family | Messi's net worth\\nLionel Messi, Inter Miami 2023 schedule\\nBelow are the remaining games for Inter Miami that Messi will be a part of. MLS\\nAfter the Leagues Cup is out of the way, Inter Miami will have 12 MLS matchdays left in a bid to reach the MLS Cup playoffs.\\n Inter Miami can still make MLS playoffs\\xa0with Lionel Messi\\nU.S. Open Cup\\nInter Miami reached the semifinal of the competition before Messi and friends joined.\", 'score': 0.97298, 'raw_content': None}, {'title': 'Messi, Argentina to play in Chicago, DC before Copa America: More info', 'url': 'https://www.usatoday.com/story/sports/soccer/2024/05/20/messi-argentina-to-play-in-chicago-dc-before-copa-america-more-info/73770204007/', 'content': \"1:00. World Cup champion Lionel Messi will participate in two Argentina friendlies early next month before Copa América begins June 20. Messi was officially named to Argentina's 29-man roster ...\", 'score': 0.97096, 'raw_content': None}]\n",
        "#\n",
        "#\n",
        "\n",
        "    web_results = \"\\n\".join([d[\"content\"] for d in docs])\n",
        "    web_results = Document(page_content=web_results)\n",
        "    if documents is not None:\n",
        "        documents.append(web_results)\n",
        "    else:\n",
        "        documents = [web_results]\n",
        "    return {\"documents\": documents, \"question\": question}\n",
        "\n",
        "\n",
        "### Edges\n",
        "\n",
        "\n",
        "def route_question(state):\n",
        "    \"\"\"\n",
        "    Route question to web search or RAG.\n",
        "\n",
        "    Args:\n",
        "        state (dict): The current graph state\n",
        "\n",
        "    Returns:\n",
        "        str: Next node to call\n",
        "    \"\"\"\n",
        "\n",
        "    print(\"---ROUTE QUESTION---\")\n",
        "    question = state[\"question\"]\n",
        "    print(question)\n",
        "    source = question_router.invoke({\"question\": question})\n",
        "    print(source)\n",
        "    print(source[\"datasource\"])\n",
        "    if source[\"datasource\"] == \"web_search\":\n",
        "        print(\"---ROUTE QUESTION TO WEB SEARCH---\")\n",
        "        return \"websearch\"\n",
        "    elif source[\"datasource\"] == \"vectorstore\":\n",
        "        print(\"---ROUTE QUESTION TO RAG---\")\n",
        "        return \"vectorstore\"\n",
        "\n",
        "\n",
        "def decide_to_generate(state):\n",
        "    \"\"\"\n",
        "    Determines whether to generate an answer, or add web search\n",
        "\n",
        "    Args:\n",
        "        state (dict): The current graph state\n",
        "\n",
        "    Returns:\n",
        "        str: Binary decision for next node to call\n",
        "    \"\"\"\n",
        "\n",
        "    print(\"---ASSESS GRADED DOCUMENTS---\")\n",
        "    state[\"question\"]\n",
        "    web_search = state[\"web_search\"]\n",
        "    state[\"documents\"]\n",
        "\n",
        "    if web_search == \"Yes\":\n",
        "        # All documents have been filtered check_relevance\n",
        "        # We will re-generate a new query\n",
        "        print(\n",
        "            \"---DECISION: ALL DOCUMENTS ARE NOT RELEVANT TO QUESTION, INCLUDE WEB SEARCH---\"\n",
        "        )\n",
        "        return \"websearch\"\n",
        "    else:\n",
        "        # We have relevant documents, so generate answer\n",
        "        print(\"---DECISION: GENERATE---\")\n",
        "        return \"generate\"\n",
        "\n",
        "\n",
        "### Conditional edge\n",
        "\n",
        "\n",
        "def grade_generation_v_documents_and_question(state):\n",
        "    \"\"\"\n",
        "    Determines whether the generation is grounded in the document and answers question.\n",
        "\n",
        "    Args:\n",
        "        state (dict): The current graph state\n",
        "\n",
        "    Returns:\n",
        "        str: Decision for next node to call\n",
        "    \"\"\"\n",
        "\n",
        "    print(\"---CHECK HALLUCINATIONS---\")\n",
        "    question = state[\"question\"]\n",
        "    documents = state[\"documents\"]\n",
        "    generation = state[\"generation\"]\n",
        "\n",
        "    score = hallucination_grader.invoke(\n",
        "        {\"documents\": documents, \"generation\": generation}\n",
        "    )\n",
        "    grade = score[\"score\"]\n",
        "\n",
        "    # Check hallucination\n",
        "    if grade == \"yes\":\n",
        "        print(\"---DECISION: GENERATION IS GROUNDED IN DOCUMENTS---\")\n",
        "        # Check question-answering\n",
        "        print(\"---GRADE GENERATION vs QUESTION---\")\n",
        "        score = answer_grader.invoke({\"question\": question, \"generation\": generation})\n",
        "        grade = score[\"score\"]\n",
        "        if grade == \"yes\":\n",
        "            print(\"---DECISION: GENERATION ADDRESSES QUESTION---\")\n",
        "            return \"useful\"\n",
        "        else:\n",
        "            print(\"---DECISION: GENERATION DOES NOT ADDRESS QUESTION---\")\n",
        "            return \"not useful\"\n",
        "    else:\n",
        "        pprint(\"---DECISION: GENERATION IS NOT GROUNDED IN DOCUMENTS, RE-TRY---\")\n",
        "        return \"not supported\"\n",
        "\n",
        "\n",
        "workflow = StateGraph(GraphState)\n",
        "\n",
        "# Define the nodes\n",
        "workflow.add_node(\"websearch\", web_search)  # web search\n",
        "workflow.add_node(\"retrieve\", retrieve)  # retrieve\n",
        "workflow.add_node(\"grade_documents\", grade_documents)  # grade documents\n",
        "workflow.add_node(\"generate\", generate)  # generatae"
      ]
    },
    {
      "cell_type": "markdown",
      "id": "73f21594-00d4-48a8-ae2e-4e55a010b540",
      "metadata": {
        "id": "73f21594-00d4-48a8-ae2e-4e55a010b540"
      },
      "source": [
        "### Graph Build"
      ]
    },
    {
      "cell_type": "code",
      "execution_count": null,
      "id": "d9a4b9e4-3ba8-47d6-958c-e5a7112ac6f4",
      "metadata": {
        "id": "d9a4b9e4-3ba8-47d6-958c-e5a7112ac6f4"
      },
      "outputs": [],
      "source": [
        "# Build graph\n",
        "workflow.set_conditional_entry_point(\n",
        "    route_question,\n",
        "    {\n",
        "        \"websearch\": \"websearch\",\n",
        "        \"vectorstore\": \"retrieve\",\n",
        "    },\n",
        ")\n",
        "\n",
        "workflow.add_edge(\"retrieve\", \"grade_documents\")\n",
        "workflow.add_conditional_edges(\n",
        "    \"grade_documents\",\n",
        "    decide_to_generate,\n",
        "    {\n",
        "        \"websearch\": \"websearch\",\n",
        "        \"generate\": \"generate\",\n",
        "    },\n",
        ")\n",
        "workflow.add_edge(\"websearch\", \"generate\")\n",
        "workflow.add_conditional_edges(\n",
        "    \"generate\",\n",
        "    grade_generation_v_documents_and_question,\n",
        "    {\n",
        "        \"not supported\": \"generate\",\n",
        "        \"useful\": END,\n",
        "        \"not useful\": \"websearch\",\n",
        "    },\n",
        ")"
      ]
    },
    {
      "cell_type": "code",
      "execution_count": null,
      "id": "13043b0f-17c7-49d3-9ea7-8f2c0f0c8691",
      "metadata": {
        "id": "13043b0f-17c7-49d3-9ea7-8f2c0f0c8691",
        "outputId": "e384bc94-7a08-4e9a-ed6f-48ef963cd895"
      },
      "outputs": [
        {
          "name": "stdout",
          "output_type": "stream",
          "text": [
            "---ROUTE QUESTION---\n",
            "What are the types of agent memory?\n",
            "{'datasource': 'vectorstore'}\n",
            "vectorstore\n",
            "---ROUTE QUESTION TO RAG---\n",
            "---RETRIEVE---\n",
            "'Finished running: retrieve:'\n",
            "---CHECK DOCUMENT RELEVANCE TO QUESTION---\n",
            "---GRADE: DOCUMENT RELEVANT---\n",
            "---GRADE: DOCUMENT RELEVANT---\n",
            "---GRADE: DOCUMENT RELEVANT---\n",
            "---GRADE: DOCUMENT RELEVANT---\n",
            "---ASSESS GRADED DOCUMENTS---\n",
            "---DECISION: GENERATE---\n",
            "'Finished running: grade_documents:'\n",
            "---GENERATE---\n",
            "---CHECK HALLUCINATIONS---\n",
            "---DECISION: GENERATION IS GROUNDED IN DOCUMENTS---\n",
            "---GRADE GENERATION vs QUESTION---\n",
            "---DECISION: GENERATION ADDRESSES QUESTION---\n",
            "'Finished running: generate:'\n",
            "('According to the provided context, there are several types of memory '\n",
            " 'mentioned:\\n'\n",
            " '\\n'\n",
            " '* Sensory Memory\\n'\n",
            " '* Iconic Memory (visual)\\n'\n",
            " '* Echoic Memory (auditory)\\n'\n",
            " '* Haptic Memory (touch)\\n'\n",
            " '\\n'\n",
            " 'These types of memory are discussed in the context of human brains.')\n"
          ]
        }
      ],
      "source": [
        "# 여러 질문을 수행할거라면 document 등 state초기화 필요\n",
        "\n",
        "# Compile\n",
        "app = workflow.compile()\n",
        "\n",
        "# Test\n",
        "\n",
        "inputs = {\"question\": \"What are the types of agent memory?\"}\n",
        "for output in app.stream(inputs):\n",
        "    for key, value in output.items():\n",
        "        pprint(f\"Finished running: {key}:\")\n",
        "pprint(value[\"generation\"])"
      ]
    },
    {
      "cell_type": "code",
      "execution_count": null,
      "id": "10cc6c0e",
      "metadata": {
        "id": "10cc6c0e"
      },
      "outputs": [],
      "source": [
        "document = None"
      ]
    },
    {
      "cell_type": "markdown",
      "id": "d733ab80-7e7b-4b1a-9519-9242de647eda",
      "metadata": {
        "id": "d733ab80-7e7b-4b1a-9519-9242de647eda"
      },
      "source": [
        "참고 LangSmith Trace:\n",
        "\n",
        "https://smith.langchain.com/public/8d449b67-6bc4-4ecf-9153-759cd21df24f/r"
      ]
    },
    {
      "cell_type": "code",
      "execution_count": null,
      "id": "fbfcec3e-a09a-40b4-9c15-fead97bf4e0a",
      "metadata": {
        "id": "fbfcec3e-a09a-40b4-9c15-fead97bf4e0a",
        "outputId": "2ddfb5af-0484-4f90-f9e0-643c73dc5d5a"
      },
      "outputs": [
        {
          "name": "stdout",
          "output_type": "stream",
          "text": [
            "---ROUTE QUESTION---\n",
            "Where does Messi play right now?\n",
            "{'datasource': 'web_search'}\n",
            "web_search\n",
            "---ROUTE QUESTION TO WEB SEARCH---\n",
            "---WEB SEARCH---\n",
            "'Finished running: websearch:'\n",
            "---GENERATE---\n",
            "---CHECK HALLUCINATIONS---\n",
            "---DECISION: GENERATION IS GROUNDED IN DOCUMENTS---\n",
            "---GRADE GENERATION vs QUESTION---\n",
            "---DECISION: GENERATION ADDRESSES QUESTION---\n",
            "'Finished running: generate:'\n",
            "('According to the provided context, Lionel Messi plays for Inter Miami CF, '\n",
            " 'and their home stadium is DRV PNK Stadium in Fort Lauderdale, Florida.')\n"
          ]
        }
      ],
      "source": [
        "from pprint import pprint\n",
        "\n",
        "# Compile\n",
        "app = workflow.compile()\n",
        "inputs = {\"question\": \"Where does Messi play right now?\"}\n",
        "for output in app.stream(inputs):\n",
        "    for key, value in output.items():\n",
        "        pprint(f\"Finished running: {key}:\")\n",
        "pprint(value[\"generation\"])"
      ]
    },
    {
      "cell_type": "markdown",
      "id": "2d74d784-daf2-469a-883a-697a98b48dbd",
      "metadata": {
        "id": "2d74d784-daf2-469a-883a-697a98b48dbd"
      },
      "source": [
        "참고 LangSmith Trace:\n",
        "\n",
        "https://smith.langchain.com/public/c785f9c0-f519-4a38-ad5a-febb59a2139c/r"
      ]
    },
    {
      "cell_type": "markdown",
      "id": "3b29ba94",
      "metadata": {
        "id": "3b29ba94"
      },
      "source": []
    },
    {
      "cell_type": "markdown",
      "id": "0169aa95",
      "metadata": {
        "id": "0169aa95"
      },
      "source": []
    }
  ],
  "metadata": {
    "kernelspec": {
      "display_name": "Python 3 (ipykernel)",
      "language": "python",
      "name": "python3"
    },
    "language_info": {
      "codemirror_mode": {
        "name": "ipython",
        "version": 3
      },
      "file_extension": ".py",
      "mimetype": "text/x-python",
      "name": "python",
      "nbconvert_exporter": "python",
      "pygments_lexer": "ipython3",
      "version": "3.9.19"
    },
    "colab": {
      "provenance": []
    }
  },
  "nbformat": 4,
  "nbformat_minor": 5
}