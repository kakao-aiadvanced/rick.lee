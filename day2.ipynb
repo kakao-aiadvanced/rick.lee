{
 "cells": [
  {
   "metadata": {
    "ExecuteTime": {
     "end_time": "2024-06-18T06:55:18.203311Z",
     "start_time": "2024-06-18T06:55:08.755669Z"
    }
   },
   "cell_type": "code",
   "source": [
    "!pip install -q --upgrade langchain_community\n",
    "!pip install tenacity"
   ],
   "id": "initial_id",
   "outputs": [
    {
     "name": "stdout",
     "output_type": "stream",
     "text": [
      "\r\n",
      "\u001B[1m[\u001B[0m\u001B[34;49mnotice\u001B[0m\u001B[1;39;49m]\u001B[0m\u001B[39;49m A new release of pip is available: \u001B[0m\u001B[31;49m23.2.1\u001B[0m\u001B[39;49m -> \u001B[0m\u001B[32;49m24.0\u001B[0m\r\n",
      "\u001B[1m[\u001B[0m\u001B[34;49mnotice\u001B[0m\u001B[1;39;49m]\u001B[0m\u001B[39;49m To update, run: \u001B[0m\u001B[32;49mpip install --upgrade pip\u001B[0m\r\n",
      "Requirement already satisfied: tenacity in ./venv3/lib/python3.10/site-packages (8.4.1)\r\n",
      "\r\n",
      "\u001B[1m[\u001B[0m\u001B[34;49mnotice\u001B[0m\u001B[1;39;49m]\u001B[0m\u001B[39;49m A new release of pip is available: \u001B[0m\u001B[31;49m23.2.1\u001B[0m\u001B[39;49m -> \u001B[0m\u001B[32;49m24.0\u001B[0m\r\n",
      "\u001B[1m[\u001B[0m\u001B[34;49mnotice\u001B[0m\u001B[1;39;49m]\u001B[0m\u001B[39;49m To update, run: \u001B[0m\u001B[32;49mpip install --upgrade pip\u001B[0m\r\n"
     ]
    }
   ],
   "execution_count": 1
  },
  {
   "metadata": {},
   "cell_type": "markdown",
   "source": "load web data",
   "id": "4308aebe67896f0d"
  },
  {
   "metadata": {
    "ExecuteTime": {
     "end_time": "2024-06-18T06:55:18.329875Z",
     "start_time": "2024-06-18T06:55:18.204436Z"
    }
   },
   "cell_type": "code",
   "source": "!python3 --version",
   "id": "4c83214855d356db",
   "outputs": [
    {
     "name": "stdout",
     "output_type": "stream",
     "text": [
      "Python 3.10.14\r\n"
     ]
    }
   ],
   "execution_count": 2
  },
  {
   "metadata": {},
   "cell_type": "markdown",
   "source": "1. 3개의 블로그 포스팅 본문을 Load",
   "id": "dd6a40fd869f9e24"
  },
  {
   "metadata": {
    "ExecuteTime": {
     "end_time": "2024-06-18T06:55:23.109760Z",
     "start_time": "2024-06-18T06:55:21.182278Z"
    }
   },
   "cell_type": "code",
   "source": [
    "from langchain_community.document_loaders import WebBaseLoader\n",
    "\n",
    "urls = [\n",
    "    \"https://lilianweng.github.io/posts/2023-06-23-agent/\",\n",
    "    \"https://lilianweng.github.io/posts/2023-03-15-prompt-engineering/\",\n",
    "    \"https://lilianweng.github.io/posts/2023-10-25-adv-attack-llm/\",\n",
    "]\n",
    "\n",
    "loader = WebBaseLoader(urls)"
   ],
   "id": "75bca2882c584e99",
   "outputs": [
    {
     "name": "stderr",
     "output_type": "stream",
     "text": [
      "USER_AGENT environment variable not set, consider setting it to identify your requests.\n"
     ]
    }
   ],
   "execution_count": 3
  },
  {
   "metadata": {
    "ExecuteTime": {
     "end_time": "2024-06-18T08:09:13.993463Z",
     "start_time": "2024-06-18T08:09:13.881243Z"
    }
   },
   "cell_type": "code",
   "source": [
    "data = loader.load()\n",
    "\n",
    "docs = [d.page_content for d in data]\n",
    "\n",
    "len(docs)"
   ],
   "id": "962c0ebd60ab4ee5",
   "outputs": [
    {
     "data": {
      "text/plain": [
       "3"
      ]
     },
     "execution_count": 80,
     "metadata": {},
     "output_type": "execute_result"
    }
   ],
   "execution_count": 80
  },
  {
   "metadata": {},
   "cell_type": "markdown",
   "source": "2. 불러온 본문을 Split (Chunking) : recursive text splitter 활용",
   "id": "17a54a19fb0ce2ba"
  },
  {
   "metadata": {
    "ExecuteTime": {
     "end_time": "2024-06-18T07:01:20.853985Z",
     "start_time": "2024-06-18T07:01:20.849514Z"
    }
   },
   "cell_type": "code",
   "source": [
    "from langchain_text_splitters import RecursiveCharacterTextSplitter\n",
    "\n",
    "text_splitter = RecursiveCharacterTextSplitter(\n",
    "    # Set a really small chunk size, just to show.\n",
    "    chunk_size=1000,\n",
    "    chunk_overlap=50,\n",
    "    length_function=len,\n",
    "    is_separator_regex=False,\n",
    ")\n",
    "\n",
    "texts = text_splitter.create_documents(docs)\n",
    "print(len(texts))\n",
    "texts[0]"
   ],
   "id": "2bc50de6f87dad7b",
   "outputs": [
    {
     "name": "stdout",
     "output_type": "stream",
     "text": [
      "185\n"
     ]
    },
    {
     "data": {
      "text/plain": [
       "Document(page_content=\"LLM Powered Autonomous Agents | Lil'Log\\n\\n\\n\\n\\n\\n\\n\\n\\n\\n\\n\\n\\n\\n\\n\\n\\n\\n\\n\\n\\n\\n\\n\\n\\n\\n\\n\\n\\n\\n\\n\\n\\n\\n\\n\\n\\n\\n\\n\\nLil'Log\\n\\n\\n\\n\\n\\n\\n\\n\\n\\n\\n\\n\\n\\n\\n\\n\\n\\n\\n\\n\\n\\n\\nPosts\\n\\n\\n\\n\\nArchive\\n\\n\\n\\n\\nSearch\\n\\n\\n\\n\\nTags\\n\\n\\n\\n\\nFAQ\\n\\n\\n\\n\\nemojisearch.app\\n\\n\\n\\n\\n\\n\\n\\n\\n\\n      LLM Powered Autonomous Agents\\n    \\nDate: June 23, 2023  |  Estimated Reading Time: 31 min  |  Author: Lilian Weng\\n\\n\\n \\n\\n\\nTable of Contents\\n\\n\\n\\nAgent System Overview\\n\\nComponent One: Planning\\n\\nTask Decomposition\\n\\nSelf-Reflection\\n\\n\\nComponent Two: Memory\\n\\nTypes of Memory\\n\\nMaximum Inner Product Search (MIPS)\\n\\n\\nComponent Three: Tool Use\\n\\nCase Studies\\n\\nScientific Discovery Agent\\n\\nGenerative Agents Simulation\\n\\nProof-of-Concept Examples\\n\\n\\nChallenges\\n\\nCitation\\n\\nReferences\")"
      ]
     },
     "execution_count": 16,
     "metadata": {},
     "output_type": "execute_result"
    }
   ],
   "execution_count": 16
  },
  {
   "metadata": {},
   "cell_type": "markdown",
   "source": "3. Chunks 를 임베딩하여 Vector store 저장: openai, chroma 사용\n",
   "id": "34048825db016c26"
  },
  {
   "metadata": {
    "ExecuteTime": {
     "end_time": "2024-06-18T07:12:32.940618Z",
     "start_time": "2024-06-18T07:12:30.917743Z"
    }
   },
   "cell_type": "code",
   "source": [
    "!pip install langchain-chroma\n",
    "!pip install langchain_community"
   ],
   "id": "4371244fc1422075",
   "outputs": [
    {
     "name": "stdout",
     "output_type": "stream",
     "text": [
      "Requirement already satisfied: langchain-chroma in ./venv3/lib/python3.10/site-packages (0.1.1)\r\n",
      "Requirement already satisfied: chromadb<0.6.0,>=0.4.0 in ./venv3/lib/python3.10/site-packages (from langchain-chroma) (0.5.2)\r\n",
      "Requirement already satisfied: fastapi<1,>=0.95.2 in ./venv3/lib/python3.10/site-packages (from langchain-chroma) (0.111.0)\r\n",
      "Requirement already satisfied: langchain-core<0.3,>=0.1.40 in ./venv3/lib/python3.10/site-packages (from langchain-chroma) (0.2.8)\r\n",
      "Requirement already satisfied: numpy<2,>=1 in ./venv3/lib/python3.10/site-packages (from langchain-chroma) (1.26.4)\r\n",
      "Requirement already satisfied: build>=1.0.3 in ./venv3/lib/python3.10/site-packages (from chromadb<0.6.0,>=0.4.0->langchain-chroma) (1.2.1)\r\n",
      "Requirement already satisfied: requests>=2.28 in ./venv3/lib/python3.10/site-packages (from chromadb<0.6.0,>=0.4.0->langchain-chroma) (2.32.3)\r\n",
      "Requirement already satisfied: pydantic>=1.9 in ./venv3/lib/python3.10/site-packages (from chromadb<0.6.0,>=0.4.0->langchain-chroma) (2.7.4)\r\n",
      "Requirement already satisfied: chroma-hnswlib==0.7.3 in ./venv3/lib/python3.10/site-packages (from chromadb<0.6.0,>=0.4.0->langchain-chroma) (0.7.3)\r\n",
      "Requirement already satisfied: uvicorn[standard]>=0.18.3 in ./venv3/lib/python3.10/site-packages (from chromadb<0.6.0,>=0.4.0->langchain-chroma) (0.30.1)\r\n",
      "Requirement already satisfied: posthog>=2.4.0 in ./venv3/lib/python3.10/site-packages (from chromadb<0.6.0,>=0.4.0->langchain-chroma) (3.5.0)\r\n",
      "Requirement already satisfied: typing-extensions>=4.5.0 in ./venv3/lib/python3.10/site-packages (from chromadb<0.6.0,>=0.4.0->langchain-chroma) (4.12.2)\r\n",
      "Requirement already satisfied: onnxruntime>=1.14.1 in ./venv3/lib/python3.10/site-packages (from chromadb<0.6.0,>=0.4.0->langchain-chroma) (1.18.0)\r\n",
      "Requirement already satisfied: opentelemetry-api>=1.2.0 in ./venv3/lib/python3.10/site-packages (from chromadb<0.6.0,>=0.4.0->langchain-chroma) (1.25.0)\r\n",
      "Requirement already satisfied: opentelemetry-exporter-otlp-proto-grpc>=1.2.0 in ./venv3/lib/python3.10/site-packages (from chromadb<0.6.0,>=0.4.0->langchain-chroma) (1.25.0)\r\n",
      "Requirement already satisfied: opentelemetry-instrumentation-fastapi>=0.41b0 in ./venv3/lib/python3.10/site-packages (from chromadb<0.6.0,>=0.4.0->langchain-chroma) (0.46b0)\r\n",
      "Requirement already satisfied: opentelemetry-sdk>=1.2.0 in ./venv3/lib/python3.10/site-packages (from chromadb<0.6.0,>=0.4.0->langchain-chroma) (1.25.0)\r\n",
      "Requirement already satisfied: tokenizers>=0.13.2 in ./venv3/lib/python3.10/site-packages (from chromadb<0.6.0,>=0.4.0->langchain-chroma) (0.19.1)\r\n",
      "Requirement already satisfied: pypika>=0.48.9 in ./venv3/lib/python3.10/site-packages (from chromadb<0.6.0,>=0.4.0->langchain-chroma) (0.48.9)\r\n",
      "Requirement already satisfied: tqdm>=4.65.0 in ./venv3/lib/python3.10/site-packages (from chromadb<0.6.0,>=0.4.0->langchain-chroma) (4.66.4)\r\n",
      "Requirement already satisfied: overrides>=7.3.1 in ./venv3/lib/python3.10/site-packages (from chromadb<0.6.0,>=0.4.0->langchain-chroma) (7.7.0)\r\n",
      "Requirement already satisfied: importlib-resources in ./venv3/lib/python3.10/site-packages (from chromadb<0.6.0,>=0.4.0->langchain-chroma) (6.4.0)\r\n",
      "Requirement already satisfied: grpcio>=1.58.0 in ./venv3/lib/python3.10/site-packages (from chromadb<0.6.0,>=0.4.0->langchain-chroma) (1.64.1)\r\n",
      "Requirement already satisfied: bcrypt>=4.0.1 in ./venv3/lib/python3.10/site-packages (from chromadb<0.6.0,>=0.4.0->langchain-chroma) (4.1.3)\r\n",
      "Requirement already satisfied: typer>=0.9.0 in ./venv3/lib/python3.10/site-packages (from chromadb<0.6.0,>=0.4.0->langchain-chroma) (0.12.3)\r\n",
      "Requirement already satisfied: kubernetes>=28.1.0 in ./venv3/lib/python3.10/site-packages (from chromadb<0.6.0,>=0.4.0->langchain-chroma) (30.1.0)\r\n",
      "Requirement already satisfied: tenacity>=8.2.3 in ./venv3/lib/python3.10/site-packages (from chromadb<0.6.0,>=0.4.0->langchain-chroma) (8.4.1)\r\n",
      "Requirement already satisfied: PyYAML>=6.0.0 in ./venv3/lib/python3.10/site-packages (from chromadb<0.6.0,>=0.4.0->langchain-chroma) (6.0.1)\r\n",
      "Requirement already satisfied: mmh3>=4.0.1 in ./venv3/lib/python3.10/site-packages (from chromadb<0.6.0,>=0.4.0->langchain-chroma) (4.1.0)\r\n",
      "Requirement already satisfied: orjson>=3.9.12 in ./venv3/lib/python3.10/site-packages (from chromadb<0.6.0,>=0.4.0->langchain-chroma) (3.10.5)\r\n",
      "Requirement already satisfied: httpx>=0.27.0 in ./venv3/lib/python3.10/site-packages (from chromadb<0.6.0,>=0.4.0->langchain-chroma) (0.27.0)\r\n",
      "Requirement already satisfied: starlette<0.38.0,>=0.37.2 in ./venv3/lib/python3.10/site-packages (from fastapi<1,>=0.95.2->langchain-chroma) (0.37.2)\r\n",
      "Requirement already satisfied: fastapi-cli>=0.0.2 in ./venv3/lib/python3.10/site-packages (from fastapi<1,>=0.95.2->langchain-chroma) (0.0.4)\r\n",
      "Requirement already satisfied: jinja2>=2.11.2 in ./venv3/lib/python3.10/site-packages (from fastapi<1,>=0.95.2->langchain-chroma) (3.1.4)\r\n",
      "Requirement already satisfied: python-multipart>=0.0.7 in ./venv3/lib/python3.10/site-packages (from fastapi<1,>=0.95.2->langchain-chroma) (0.0.9)\r\n",
      "Requirement already satisfied: ujson!=4.0.2,!=4.1.0,!=4.2.0,!=4.3.0,!=5.0.0,!=5.1.0,>=4.0.1 in ./venv3/lib/python3.10/site-packages (from fastapi<1,>=0.95.2->langchain-chroma) (5.10.0)\r\n",
      "Requirement already satisfied: email_validator>=2.0.0 in ./venv3/lib/python3.10/site-packages (from fastapi<1,>=0.95.2->langchain-chroma) (2.1.2)\r\n",
      "Requirement already satisfied: jsonpatch<2.0,>=1.33 in ./venv3/lib/python3.10/site-packages (from langchain-core<0.3,>=0.1.40->langchain-chroma) (1.33)\r\n",
      "Requirement already satisfied: langsmith<0.2.0,>=0.1.75 in ./venv3/lib/python3.10/site-packages (from langchain-core<0.3,>=0.1.40->langchain-chroma) (0.1.79)\r\n",
      "Requirement already satisfied: packaging<25,>=23.2 in ./venv3/lib/python3.10/site-packages (from langchain-core<0.3,>=0.1.40->langchain-chroma) (24.1)\r\n",
      "Requirement already satisfied: pyproject_hooks in ./venv3/lib/python3.10/site-packages (from build>=1.0.3->chromadb<0.6.0,>=0.4.0->langchain-chroma) (1.1.0)\r\n",
      "Requirement already satisfied: tomli>=1.1.0 in ./venv3/lib/python3.10/site-packages (from build>=1.0.3->chromadb<0.6.0,>=0.4.0->langchain-chroma) (2.0.1)\r\n",
      "Requirement already satisfied: dnspython>=2.0.0 in ./venv3/lib/python3.10/site-packages (from email_validator>=2.0.0->fastapi<1,>=0.95.2->langchain-chroma) (2.6.1)\r\n",
      "Requirement already satisfied: idna>=2.0.0 in ./venv3/lib/python3.10/site-packages (from email_validator>=2.0.0->fastapi<1,>=0.95.2->langchain-chroma) (3.7)\r\n",
      "Requirement already satisfied: anyio in ./venv3/lib/python3.10/site-packages (from httpx>=0.27.0->chromadb<0.6.0,>=0.4.0->langchain-chroma) (4.4.0)\r\n",
      "Requirement already satisfied: certifi in ./venv3/lib/python3.10/site-packages (from httpx>=0.27.0->chromadb<0.6.0,>=0.4.0->langchain-chroma) (2024.6.2)\r\n",
      "Requirement already satisfied: httpcore==1.* in ./venv3/lib/python3.10/site-packages (from httpx>=0.27.0->chromadb<0.6.0,>=0.4.0->langchain-chroma) (1.0.5)\r\n",
      "Requirement already satisfied: sniffio in ./venv3/lib/python3.10/site-packages (from httpx>=0.27.0->chromadb<0.6.0,>=0.4.0->langchain-chroma) (1.3.1)\r\n",
      "Requirement already satisfied: h11<0.15,>=0.13 in ./venv3/lib/python3.10/site-packages (from httpcore==1.*->httpx>=0.27.0->chromadb<0.6.0,>=0.4.0->langchain-chroma) (0.14.0)\r\n",
      "Requirement already satisfied: MarkupSafe>=2.0 in ./venv3/lib/python3.10/site-packages (from jinja2>=2.11.2->fastapi<1,>=0.95.2->langchain-chroma) (2.1.5)\r\n",
      "Requirement already satisfied: jsonpointer>=1.9 in ./venv3/lib/python3.10/site-packages (from jsonpatch<2.0,>=1.33->langchain-core<0.3,>=0.1.40->langchain-chroma) (3.0.0)\r\n",
      "Requirement already satisfied: six>=1.9.0 in ./venv3/lib/python3.10/site-packages (from kubernetes>=28.1.0->chromadb<0.6.0,>=0.4.0->langchain-chroma) (1.16.0)\r\n",
      "Requirement already satisfied: python-dateutil>=2.5.3 in ./venv3/lib/python3.10/site-packages (from kubernetes>=28.1.0->chromadb<0.6.0,>=0.4.0->langchain-chroma) (2.9.0.post0)\r\n",
      "Requirement already satisfied: google-auth>=1.0.1 in ./venv3/lib/python3.10/site-packages (from kubernetes>=28.1.0->chromadb<0.6.0,>=0.4.0->langchain-chroma) (2.30.0)\r\n",
      "Requirement already satisfied: websocket-client!=0.40.0,!=0.41.*,!=0.42.*,>=0.32.0 in ./venv3/lib/python3.10/site-packages (from kubernetes>=28.1.0->chromadb<0.6.0,>=0.4.0->langchain-chroma) (1.8.0)\r\n",
      "Requirement already satisfied: requests-oauthlib in ./venv3/lib/python3.10/site-packages (from kubernetes>=28.1.0->chromadb<0.6.0,>=0.4.0->langchain-chroma) (2.0.0)\r\n",
      "Requirement already satisfied: oauthlib>=3.2.2 in ./venv3/lib/python3.10/site-packages (from kubernetes>=28.1.0->chromadb<0.6.0,>=0.4.0->langchain-chroma) (3.2.2)\r\n",
      "Requirement already satisfied: urllib3>=1.24.2 in ./venv3/lib/python3.10/site-packages (from kubernetes>=28.1.0->chromadb<0.6.0,>=0.4.0->langchain-chroma) (2.2.2)\r\n",
      "Requirement already satisfied: coloredlogs in ./venv3/lib/python3.10/site-packages (from onnxruntime>=1.14.1->chromadb<0.6.0,>=0.4.0->langchain-chroma) (15.0.1)\r\n",
      "Requirement already satisfied: flatbuffers in ./venv3/lib/python3.10/site-packages (from onnxruntime>=1.14.1->chromadb<0.6.0,>=0.4.0->langchain-chroma) (24.3.25)\r\n",
      "Requirement already satisfied: protobuf in ./venv3/lib/python3.10/site-packages (from onnxruntime>=1.14.1->chromadb<0.6.0,>=0.4.0->langchain-chroma) (4.25.3)\r\n",
      "Requirement already satisfied: sympy in ./venv3/lib/python3.10/site-packages (from onnxruntime>=1.14.1->chromadb<0.6.0,>=0.4.0->langchain-chroma) (1.12.1)\r\n",
      "Requirement already satisfied: deprecated>=1.2.6 in ./venv3/lib/python3.10/site-packages (from opentelemetry-api>=1.2.0->chromadb<0.6.0,>=0.4.0->langchain-chroma) (1.2.14)\r\n",
      "Requirement already satisfied: importlib-metadata<=7.1,>=6.0 in ./venv3/lib/python3.10/site-packages (from opentelemetry-api>=1.2.0->chromadb<0.6.0,>=0.4.0->langchain-chroma) (7.1.0)\r\n",
      "Requirement already satisfied: googleapis-common-protos~=1.52 in ./venv3/lib/python3.10/site-packages (from opentelemetry-exporter-otlp-proto-grpc>=1.2.0->chromadb<0.6.0,>=0.4.0->langchain-chroma) (1.63.1)\r\n",
      "Requirement already satisfied: opentelemetry-exporter-otlp-proto-common==1.25.0 in ./venv3/lib/python3.10/site-packages (from opentelemetry-exporter-otlp-proto-grpc>=1.2.0->chromadb<0.6.0,>=0.4.0->langchain-chroma) (1.25.0)\r\n",
      "Requirement already satisfied: opentelemetry-proto==1.25.0 in ./venv3/lib/python3.10/site-packages (from opentelemetry-exporter-otlp-proto-grpc>=1.2.0->chromadb<0.6.0,>=0.4.0->langchain-chroma) (1.25.0)\r\n",
      "Requirement already satisfied: opentelemetry-instrumentation-asgi==0.46b0 in ./venv3/lib/python3.10/site-packages (from opentelemetry-instrumentation-fastapi>=0.41b0->chromadb<0.6.0,>=0.4.0->langchain-chroma) (0.46b0)\r\n",
      "Requirement already satisfied: opentelemetry-instrumentation==0.46b0 in ./venv3/lib/python3.10/site-packages (from opentelemetry-instrumentation-fastapi>=0.41b0->chromadb<0.6.0,>=0.4.0->langchain-chroma) (0.46b0)\r\n",
      "Requirement already satisfied: opentelemetry-semantic-conventions==0.46b0 in ./venv3/lib/python3.10/site-packages (from opentelemetry-instrumentation-fastapi>=0.41b0->chromadb<0.6.0,>=0.4.0->langchain-chroma) (0.46b0)\r\n",
      "Requirement already satisfied: opentelemetry-util-http==0.46b0 in ./venv3/lib/python3.10/site-packages (from opentelemetry-instrumentation-fastapi>=0.41b0->chromadb<0.6.0,>=0.4.0->langchain-chroma) (0.46b0)\r\n",
      "Requirement already satisfied: setuptools>=16.0 in ./venv3/lib/python3.10/site-packages (from opentelemetry-instrumentation==0.46b0->opentelemetry-instrumentation-fastapi>=0.41b0->chromadb<0.6.0,>=0.4.0->langchain-chroma) (68.2.0)\r\n",
      "Requirement already satisfied: wrapt<2.0.0,>=1.0.0 in ./venv3/lib/python3.10/site-packages (from opentelemetry-instrumentation==0.46b0->opentelemetry-instrumentation-fastapi>=0.41b0->chromadb<0.6.0,>=0.4.0->langchain-chroma) (1.16.0)\r\n",
      "Requirement already satisfied: asgiref~=3.0 in ./venv3/lib/python3.10/site-packages (from opentelemetry-instrumentation-asgi==0.46b0->opentelemetry-instrumentation-fastapi>=0.41b0->chromadb<0.6.0,>=0.4.0->langchain-chroma) (3.8.1)\r\n",
      "Requirement already satisfied: monotonic>=1.5 in ./venv3/lib/python3.10/site-packages (from posthog>=2.4.0->chromadb<0.6.0,>=0.4.0->langchain-chroma) (1.6)\r\n",
      "Requirement already satisfied: backoff>=1.10.0 in ./venv3/lib/python3.10/site-packages (from posthog>=2.4.0->chromadb<0.6.0,>=0.4.0->langchain-chroma) (2.2.1)\r\n",
      "Requirement already satisfied: annotated-types>=0.4.0 in ./venv3/lib/python3.10/site-packages (from pydantic>=1.9->chromadb<0.6.0,>=0.4.0->langchain-chroma) (0.7.0)\r\n",
      "Requirement already satisfied: pydantic-core==2.18.4 in ./venv3/lib/python3.10/site-packages (from pydantic>=1.9->chromadb<0.6.0,>=0.4.0->langchain-chroma) (2.18.4)\r\n",
      "Requirement already satisfied: charset-normalizer<4,>=2 in ./venv3/lib/python3.10/site-packages (from requests>=2.28->chromadb<0.6.0,>=0.4.0->langchain-chroma) (3.3.2)\r\n",
      "Requirement already satisfied: huggingface-hub<1.0,>=0.16.4 in ./venv3/lib/python3.10/site-packages (from tokenizers>=0.13.2->chromadb<0.6.0,>=0.4.0->langchain-chroma) (0.23.4)\r\n",
      "Requirement already satisfied: click>=8.0.0 in ./venv3/lib/python3.10/site-packages (from typer>=0.9.0->chromadb<0.6.0,>=0.4.0->langchain-chroma) (8.1.7)\r\n",
      "Requirement already satisfied: shellingham>=1.3.0 in ./venv3/lib/python3.10/site-packages (from typer>=0.9.0->chromadb<0.6.0,>=0.4.0->langchain-chroma) (1.5.4)\r\n",
      "Requirement already satisfied: rich>=10.11.0 in ./venv3/lib/python3.10/site-packages (from typer>=0.9.0->chromadb<0.6.0,>=0.4.0->langchain-chroma) (13.7.1)\r\n",
      "Requirement already satisfied: httptools>=0.5.0 in ./venv3/lib/python3.10/site-packages (from uvicorn[standard]>=0.18.3->chromadb<0.6.0,>=0.4.0->langchain-chroma) (0.6.1)\r\n",
      "Requirement already satisfied: python-dotenv>=0.13 in ./venv3/lib/python3.10/site-packages (from uvicorn[standard]>=0.18.3->chromadb<0.6.0,>=0.4.0->langchain-chroma) (1.0.1)\r\n",
      "Requirement already satisfied: uvloop!=0.15.0,!=0.15.1,>=0.14.0 in ./venv3/lib/python3.10/site-packages (from uvicorn[standard]>=0.18.3->chromadb<0.6.0,>=0.4.0->langchain-chroma) (0.19.0)\r\n",
      "Requirement already satisfied: watchfiles>=0.13 in ./venv3/lib/python3.10/site-packages (from uvicorn[standard]>=0.18.3->chromadb<0.6.0,>=0.4.0->langchain-chroma) (0.22.0)\r\n",
      "Requirement already satisfied: websockets>=10.4 in ./venv3/lib/python3.10/site-packages (from uvicorn[standard]>=0.18.3->chromadb<0.6.0,>=0.4.0->langchain-chroma) (12.0)\r\n",
      "Requirement already satisfied: exceptiongroup>=1.0.2 in ./venv3/lib/python3.10/site-packages (from anyio->httpx>=0.27.0->chromadb<0.6.0,>=0.4.0->langchain-chroma) (1.2.1)\r\n",
      "Requirement already satisfied: cachetools<6.0,>=2.0.0 in ./venv3/lib/python3.10/site-packages (from google-auth>=1.0.1->kubernetes>=28.1.0->chromadb<0.6.0,>=0.4.0->langchain-chroma) (5.3.3)\r\n",
      "Requirement already satisfied: pyasn1-modules>=0.2.1 in ./venv3/lib/python3.10/site-packages (from google-auth>=1.0.1->kubernetes>=28.1.0->chromadb<0.6.0,>=0.4.0->langchain-chroma) (0.4.0)\r\n",
      "Requirement already satisfied: rsa<5,>=3.1.4 in ./venv3/lib/python3.10/site-packages (from google-auth>=1.0.1->kubernetes>=28.1.0->chromadb<0.6.0,>=0.4.0->langchain-chroma) (4.9)\r\n",
      "Requirement already satisfied: filelock in ./venv3/lib/python3.10/site-packages (from huggingface-hub<1.0,>=0.16.4->tokenizers>=0.13.2->chromadb<0.6.0,>=0.4.0->langchain-chroma) (3.15.1)\r\n",
      "Requirement already satisfied: fsspec>=2023.5.0 in ./venv3/lib/python3.10/site-packages (from huggingface-hub<1.0,>=0.16.4->tokenizers>=0.13.2->chromadb<0.6.0,>=0.4.0->langchain-chroma) (2024.6.0)\r\n",
      "Requirement already satisfied: zipp>=0.5 in ./venv3/lib/python3.10/site-packages (from importlib-metadata<=7.1,>=6.0->opentelemetry-api>=1.2.0->chromadb<0.6.0,>=0.4.0->langchain-chroma) (3.19.2)\r\n",
      "Requirement already satisfied: markdown-it-py>=2.2.0 in ./venv3/lib/python3.10/site-packages (from rich>=10.11.0->typer>=0.9.0->chromadb<0.6.0,>=0.4.0->langchain-chroma) (3.0.0)\r\n",
      "Requirement already satisfied: pygments<3.0.0,>=2.13.0 in ./venv3/lib/python3.10/site-packages (from rich>=10.11.0->typer>=0.9.0->chromadb<0.6.0,>=0.4.0->langchain-chroma) (2.18.0)\r\n",
      "Requirement already satisfied: humanfriendly>=9.1 in ./venv3/lib/python3.10/site-packages (from coloredlogs->onnxruntime>=1.14.1->chromadb<0.6.0,>=0.4.0->langchain-chroma) (10.0)\r\n",
      "Requirement already satisfied: mpmath<1.4.0,>=1.1.0 in ./venv3/lib/python3.10/site-packages (from sympy->onnxruntime>=1.14.1->chromadb<0.6.0,>=0.4.0->langchain-chroma) (1.3.0)\r\n",
      "Requirement already satisfied: mdurl~=0.1 in ./venv3/lib/python3.10/site-packages (from markdown-it-py>=2.2.0->rich>=10.11.0->typer>=0.9.0->chromadb<0.6.0,>=0.4.0->langchain-chroma) (0.1.2)\r\n",
      "Requirement already satisfied: pyasn1<0.7.0,>=0.4.6 in ./venv3/lib/python3.10/site-packages (from pyasn1-modules>=0.2.1->google-auth>=1.0.1->kubernetes>=28.1.0->chromadb<0.6.0,>=0.4.0->langchain-chroma) (0.6.0)\r\n",
      "\r\n",
      "\u001B[1m[\u001B[0m\u001B[34;49mnotice\u001B[0m\u001B[1;39;49m]\u001B[0m\u001B[39;49m A new release of pip is available: \u001B[0m\u001B[31;49m23.2.1\u001B[0m\u001B[39;49m -> \u001B[0m\u001B[32;49m24.0\u001B[0m\r\n",
      "\u001B[1m[\u001B[0m\u001B[34;49mnotice\u001B[0m\u001B[1;39;49m]\u001B[0m\u001B[39;49m To update, run: \u001B[0m\u001B[32;49mpip install --upgrade pip\u001B[0m\r\n",
      "Requirement already satisfied: langchain_community in ./venv3/lib/python3.10/site-packages (0.2.5)\r\n",
      "Requirement already satisfied: PyYAML>=5.3 in ./venv3/lib/python3.10/site-packages (from langchain_community) (6.0.1)\r\n",
      "Requirement already satisfied: SQLAlchemy<3,>=1.4 in ./venv3/lib/python3.10/site-packages (from langchain_community) (2.0.30)\r\n",
      "Requirement already satisfied: aiohttp<4.0.0,>=3.8.3 in ./venv3/lib/python3.10/site-packages (from langchain_community) (3.9.5)\r\n",
      "Requirement already satisfied: dataclasses-json<0.7,>=0.5.7 in ./venv3/lib/python3.10/site-packages (from langchain_community) (0.6.7)\r\n",
      "Requirement already satisfied: langchain<0.3.0,>=0.2.5 in ./venv3/lib/python3.10/site-packages (from langchain_community) (0.2.5)\r\n",
      "Requirement already satisfied: langchain-core<0.3.0,>=0.2.7 in ./venv3/lib/python3.10/site-packages (from langchain_community) (0.2.8)\r\n",
      "Requirement already satisfied: langsmith<0.2.0,>=0.1.0 in ./venv3/lib/python3.10/site-packages (from langchain_community) (0.1.79)\r\n",
      "Requirement already satisfied: numpy<2,>=1 in ./venv3/lib/python3.10/site-packages (from langchain_community) (1.26.4)\r\n",
      "Requirement already satisfied: requests<3,>=2 in ./venv3/lib/python3.10/site-packages (from langchain_community) (2.32.3)\r\n",
      "Requirement already satisfied: tenacity<9.0.0,>=8.1.0 in ./venv3/lib/python3.10/site-packages (from langchain_community) (8.4.1)\r\n",
      "Requirement already satisfied: aiosignal>=1.1.2 in ./venv3/lib/python3.10/site-packages (from aiohttp<4.0.0,>=3.8.3->langchain_community) (1.3.1)\r\n",
      "Requirement already satisfied: attrs>=17.3.0 in ./venv3/lib/python3.10/site-packages (from aiohttp<4.0.0,>=3.8.3->langchain_community) (23.2.0)\r\n",
      "Requirement already satisfied: frozenlist>=1.1.1 in ./venv3/lib/python3.10/site-packages (from aiohttp<4.0.0,>=3.8.3->langchain_community) (1.4.1)\r\n",
      "Requirement already satisfied: multidict<7.0,>=4.5 in ./venv3/lib/python3.10/site-packages (from aiohttp<4.0.0,>=3.8.3->langchain_community) (6.0.5)\r\n",
      "Requirement already satisfied: yarl<2.0,>=1.0 in ./venv3/lib/python3.10/site-packages (from aiohttp<4.0.0,>=3.8.3->langchain_community) (1.9.4)\r\n",
      "Requirement already satisfied: async-timeout<5.0,>=4.0 in ./venv3/lib/python3.10/site-packages (from aiohttp<4.0.0,>=3.8.3->langchain_community) (4.0.3)\r\n",
      "Requirement already satisfied: marshmallow<4.0.0,>=3.18.0 in ./venv3/lib/python3.10/site-packages (from dataclasses-json<0.7,>=0.5.7->langchain_community) (3.21.3)\r\n",
      "Requirement already satisfied: typing-inspect<1,>=0.4.0 in ./venv3/lib/python3.10/site-packages (from dataclasses-json<0.7,>=0.5.7->langchain_community) (0.9.0)\r\n",
      "Requirement already satisfied: langchain-text-splitters<0.3.0,>=0.2.0 in ./venv3/lib/python3.10/site-packages (from langchain<0.3.0,>=0.2.5->langchain_community) (0.2.1)\r\n",
      "Requirement already satisfied: pydantic<3,>=1 in ./venv3/lib/python3.10/site-packages (from langchain<0.3.0,>=0.2.5->langchain_community) (2.7.4)\r\n",
      "Requirement already satisfied: jsonpatch<2.0,>=1.33 in ./venv3/lib/python3.10/site-packages (from langchain-core<0.3.0,>=0.2.7->langchain_community) (1.33)\r\n",
      "Requirement already satisfied: packaging<25,>=23.2 in ./venv3/lib/python3.10/site-packages (from langchain-core<0.3.0,>=0.2.7->langchain_community) (24.1)\r\n",
      "Requirement already satisfied: orjson<4.0.0,>=3.9.14 in ./venv3/lib/python3.10/site-packages (from langsmith<0.2.0,>=0.1.0->langchain_community) (3.10.5)\r\n",
      "Requirement already satisfied: charset-normalizer<4,>=2 in ./venv3/lib/python3.10/site-packages (from requests<3,>=2->langchain_community) (3.3.2)\r\n",
      "Requirement already satisfied: idna<4,>=2.5 in ./venv3/lib/python3.10/site-packages (from requests<3,>=2->langchain_community) (3.7)\r\n",
      "Requirement already satisfied: urllib3<3,>=1.21.1 in ./venv3/lib/python3.10/site-packages (from requests<3,>=2->langchain_community) (2.2.2)\r\n",
      "Requirement already satisfied: certifi>=2017.4.17 in ./venv3/lib/python3.10/site-packages (from requests<3,>=2->langchain_community) (2024.6.2)\r\n",
      "Requirement already satisfied: typing-extensions>=4.6.0 in ./venv3/lib/python3.10/site-packages (from SQLAlchemy<3,>=1.4->langchain_community) (4.12.2)\r\n",
      "Requirement already satisfied: jsonpointer>=1.9 in ./venv3/lib/python3.10/site-packages (from jsonpatch<2.0,>=1.33->langchain-core<0.3.0,>=0.2.7->langchain_community) (3.0.0)\r\n",
      "Requirement already satisfied: annotated-types>=0.4.0 in ./venv3/lib/python3.10/site-packages (from pydantic<3,>=1->langchain<0.3.0,>=0.2.5->langchain_community) (0.7.0)\r\n",
      "Requirement already satisfied: pydantic-core==2.18.4 in ./venv3/lib/python3.10/site-packages (from pydantic<3,>=1->langchain<0.3.0,>=0.2.5->langchain_community) (2.18.4)\r\n",
      "Requirement already satisfied: mypy-extensions>=0.3.0 in ./venv3/lib/python3.10/site-packages (from typing-inspect<1,>=0.4.0->dataclasses-json<0.7,>=0.5.7->langchain_community) (1.0.0)\r\n",
      "\r\n",
      "\u001B[1m[\u001B[0m\u001B[34;49mnotice\u001B[0m\u001B[1;39;49m]\u001B[0m\u001B[39;49m A new release of pip is available: \u001B[0m\u001B[31;49m23.2.1\u001B[0m\u001B[39;49m -> \u001B[0m\u001B[32;49m24.0\u001B[0m\r\n",
      "\u001B[1m[\u001B[0m\u001B[34;49mnotice\u001B[0m\u001B[1;39;49m]\u001B[0m\u001B[39;49m To update, run: \u001B[0m\u001B[32;49mpip install --upgrade pip\u001B[0m\r\n"
     ]
    }
   ],
   "execution_count": 22
  },
  {
   "metadata": {
    "ExecuteTime": {
     "end_time": "2024-06-18T07:21:26.503293Z",
     "start_time": "2024-06-18T07:21:26.500790Z"
    }
   },
   "cell_type": "code",
   "source": [
    "import os\n",
    "\n",
    "# Set the API key\n",
    "os.environ['OPENAI_API_KEY'] = \"sk-\""
   ],
   "id": "51869c110c5107c5",
   "outputs": [],
   "execution_count": 34
  },
  {
   "metadata": {
    "ExecuteTime": {
     "end_time": "2024-06-18T07:22:46.365586Z",
     "start_time": "2024-06-18T07:22:44.112435Z"
    }
   },
   "cell_type": "code",
   "source": [
    "from langchain_chroma import Chroma\n",
    "from langchain_openai import OpenAIEmbeddings\n",
    "#from langchain_community.embeddings import OllamaEmbeddings\n",
    "#Open API로 바꿔야함\n",
    "\n",
    "vectorstore = Chroma.from_documents(documents=texts, embedding=OpenAIEmbeddings())"
   ],
   "id": "abdabaed8f14a50f",
   "outputs": [],
   "execution_count": 35
  },
  {
   "metadata": {},
   "cell_type": "markdown",
   "source": "4. User query = ‘agent memory’ 를 받아 관련된 chunks를 retrieve",
   "id": "8e52cae02d5774cf"
  },
  {
   "metadata": {
    "ExecuteTime": {
     "end_time": "2024-06-18T07:24:08.018560Z",
     "start_time": "2024-06-18T07:24:07.712994Z"
    }
   },
   "cell_type": "code",
   "source": "sim_docs = vectorstore.similarity_search(\"agent memory\")",
   "id": "1a14f9d156c6d67b",
   "outputs": [],
   "execution_count": 42
  },
  {
   "metadata": {
    "ExecuteTime": {
     "end_time": "2024-06-18T07:24:08.945828Z",
     "start_time": "2024-06-18T07:24:08.943066Z"
    }
   },
   "cell_type": "code",
   "source": [
    "print(len(sim_docs))\n",
    "sim_docs[0]"
   ],
   "id": "eda14d0aba957565",
   "outputs": [
    {
     "name": "stdout",
     "output_type": "stream",
     "text": [
      "4\n"
     ]
    },
    {
     "data": {
      "text/plain": [
       "Document(page_content='Memory stream: is a long-term memory module (external database) that records a comprehensive list of agents’ experience in natural language.\\n\\nEach element is an observation, an event directly provided by the agent.\\n- Inter-agent communication can trigger new natural language statements.\\n\\n\\nRetrieval model: surfaces the context to inform the agent’s behavior, according to relevance, recency and importance.\\n\\nRecency: recent events have higher scores\\nImportance: distinguish mundane from core memories. Ask LM directly.\\nRelevance: based on how related it is to the current situation / query.\\n\\n\\nReflection mechanism: synthesizes memories into higher level inferences over time and guides the agent’s future behavior. They are higher-level summaries of past events (<- note that this is a bit different from self-reflection above)')"
      ]
     },
     "execution_count": 43,
     "metadata": {},
     "output_type": "execute_result"
    }
   ],
   "execution_count": 43
  },
  {
   "metadata": {},
   "cell_type": "markdown",
   "source": "5. User query와 retrieved chunk 에 대해 relevance 가 있는지를 평가하는 시스템 프롬프트 작성: retrieval 퀄리티를 LLM 이 스스로 평가하도록 하고, 관련이 있으면 {‘relevance’: ‘yes’} 관련이 없으면 {‘relevance’: ‘no’} 라고 출력하도록 함. ( JsonOutputParser() 를 활용 ) - llama3 prompt format 준수",
   "id": "241a22c26c9ec24c"
  },
  {
   "metadata": {
    "ExecuteTime": {
     "end_time": "2024-06-18T07:30:20.646159Z",
     "start_time": "2024-06-18T07:30:19.509034Z"
    }
   },
   "cell_type": "code",
   "source": "!pip install langchainhub",
   "id": "ef35070457916b6b",
   "outputs": [
    {
     "name": "stdout",
     "output_type": "stream",
     "text": [
      "Collecting langchainhub\r\n",
      "  Obtaining dependency information for langchainhub from https://files.pythonhosted.org/packages/63/af/1ede340c6283f6a70cf0e2aaa4e9c8e817ff54b0ec4df4fd956d81abffea/langchainhub-0.1.20-py3-none-any.whl.metadata\r\n",
      "  Downloading langchainhub-0.1.20-py3-none-any.whl.metadata (659 bytes)\r\n",
      "Requirement already satisfied: packaging<25,>=23.2 in ./venv3/lib/python3.10/site-packages (from langchainhub) (24.1)\r\n",
      "Requirement already satisfied: requests<3,>=2 in ./venv3/lib/python3.10/site-packages (from langchainhub) (2.32.3)\r\n",
      "Collecting types-requests<3.0.0.0,>=2.31.0.2 (from langchainhub)\r\n",
      "  Obtaining dependency information for types-requests<3.0.0.0,>=2.31.0.2 from https://files.pythonhosted.org/packages/3b/b1/aad4376acab3bba3c155fdcfd8eccedf0d33b453fc6e67ca3960f3086909/types_requests-2.32.0.20240602-py3-none-any.whl.metadata\r\n",
      "  Downloading types_requests-2.32.0.20240602-py3-none-any.whl.metadata (1.8 kB)\r\n",
      "Requirement already satisfied: charset-normalizer<4,>=2 in ./venv3/lib/python3.10/site-packages (from requests<3,>=2->langchainhub) (3.3.2)\r\n",
      "Requirement already satisfied: idna<4,>=2.5 in ./venv3/lib/python3.10/site-packages (from requests<3,>=2->langchainhub) (3.7)\r\n",
      "Requirement already satisfied: urllib3<3,>=1.21.1 in ./venv3/lib/python3.10/site-packages (from requests<3,>=2->langchainhub) (2.2.2)\r\n",
      "Requirement already satisfied: certifi>=2017.4.17 in ./venv3/lib/python3.10/site-packages (from requests<3,>=2->langchainhub) (2024.6.2)\r\n",
      "Downloading langchainhub-0.1.20-py3-none-any.whl (5.0 kB)\r\n",
      "Downloading types_requests-2.32.0.20240602-py3-none-any.whl (15 kB)\r\n",
      "Installing collected packages: types-requests, langchainhub\r\n",
      "Successfully installed langchainhub-0.1.20 types-requests-2.32.0.20240602\r\n",
      "\r\n",
      "\u001B[1m[\u001B[0m\u001B[34;49mnotice\u001B[0m\u001B[1;39;49m]\u001B[0m\u001B[39;49m A new release of pip is available: \u001B[0m\u001B[31;49m23.2.1\u001B[0m\u001B[39;49m -> \u001B[0m\u001B[32;49m24.0\u001B[0m\r\n",
      "\u001B[1m[\u001B[0m\u001B[34;49mnotice\u001B[0m\u001B[1;39;49m]\u001B[0m\u001B[39;49m To update, run: \u001B[0m\u001B[32;49mpip install --upgrade pip\u001B[0m\r\n"
     ]
    }
   ],
   "execution_count": 50
  },
  {
   "metadata": {
    "ExecuteTime": {
     "end_time": "2024-06-18T08:00:07.757214Z",
     "start_time": "2024-06-18T08:00:07.754164Z"
    }
   },
   "cell_type": "code",
   "source": [
    "from langchain_core.output_parsers import StrOutputParser\n",
    "from langchain_core.output_parsers import JsonOutputParser\n",
    "from langchain_core.runnables import RunnablePassthrough\n",
    "from langchain_community.chat_models import ChatOllama\n",
    "from langchain_core.prompts import PromptTemplate\n"
   ],
   "id": "1e4cc056e127e7e4",
   "outputs": [],
   "execution_count": 69
  },
  {
   "metadata": {
    "ExecuteTime": {
     "end_time": "2024-06-18T07:57:42.447517Z",
     "start_time": "2024-06-18T07:57:40.106171Z"
    }
   },
   "cell_type": "code",
   "source": [
    "retriever = vectorstore.as_retriever()\n",
    "llm = ChatOllama(model=\"llama3\", temperature=0, format=\"json\")\n",
    "\n",
    "question = \"agent memory\"\n",
    "\n",
    "searched_docs = vectorstore.similarity_search(question)\n",
    "\n",
    "def format_docs(docs):\n",
    "    return \"\\n\\n\".join(doc.page_content for doc in docs)\n",
    "\n",
    "prompt = PromptTemplate(\n",
    "    template=\"Retrieve the relevant documents for the given query. If the document is relevant, output JSON relevance\\\": \\\"yes\\\". If the document is not relevant, output \\\"relevance\\\": \\\"no\\\".\\n\\nQuery: {question}'\\n\\nDocument: \" + format_docs(searched_docs),\n",
    "    input_variables=[\"question\"],\n",
    "    partial_variables={},\n",
    ")\n",
    "\n",
    "rag_chain = (\n",
    "        {\"question\": RunnablePassthrough()}\n",
    "        | prompt\n",
    "        | llm\n",
    "        | JsonOutputParser()\n",
    ")\n",
    "\n",
    "rag_chain.invoke(question)"
   ],
   "id": "f0c527c3348af9eb",
   "outputs": [
    {
     "data": {
      "text/plain": [
       "{'relevance': 'yes'}"
      ]
     },
     "execution_count": 68,
     "metadata": {},
     "output_type": "execute_result"
    }
   ],
   "execution_count": 68
  },
  {
   "metadata": {},
   "cell_type": "markdown",
   "source": [
    "6. 5 에서 모든 docs에 대해 ‘no’ 라면 디버깅 (Splitter, Chunk size, overlap, embedding model, vector store, retrieval 평가 시스템 프롬프트 등) \n",
    "\n",
    "no 라고 하지 않음"
   ],
   "id": "3700385bf787e99e"
  },
  {
   "metadata": {},
   "cell_type": "markdown",
   "source": [
    "7. 5에서 ‘yes’ 라면 질문과 명확히 관련 없는 docs 나 질문 (예: ‘I like an apple’)에 대해서는 ‘no’ 라고 나오는지 \n",
    "전혀 관계 없는 쿼리인 superman movies 를 입력하면 no 출력"
   ],
   "id": "8cfba362c45ee589"
  },
  {
   "metadata": {
    "ExecuteTime": {
     "end_time": "2024-06-18T07:42:21.760840Z",
     "start_time": "2024-06-18T07:42:18.008878Z"
    }
   },
   "cell_type": "code",
   "source": "rag_chain.invoke(\"superman movies\")",
   "id": "626aa8669997091d",
   "outputs": [
    {
     "data": {
      "text/plain": [
       "{'relevance': 'no'}"
      ]
     },
     "execution_count": 61,
     "metadata": {},
     "output_type": "execute_result"
    }
   ],
   "execution_count": 61
  },
  {
   "metadata": {
    "ExecuteTime": {
     "end_time": "2024-06-18T07:42:49.415323Z",
     "start_time": "2024-06-18T07:42:45.365314Z"
    }
   },
   "cell_type": "code",
   "source": "rag_chain.invoke(\"I like an apple\")",
   "id": "8c7fa30e77e4dc7e",
   "outputs": [
    {
     "data": {
      "text/plain": [
       "{'relevance': 'no'}"
      ]
     },
     "execution_count": 62,
     "metadata": {},
     "output_type": "execute_result"
    }
   ],
   "execution_count": 62
  },
  {
   "metadata": {},
   "cell_type": "markdown",
   "source": [
    "8. ‘yes’ 이고 7의 평가에서도 문제가 없다면, 4의 retrieved chunk 를 가지고 답변 작성\n",
    "prompt | llm | parser 형태로 작성\n"
   ],
   "id": "f9e6bf7d0daed82e"
  },
  {
   "metadata": {
    "ExecuteTime": {
     "end_time": "2024-06-18T07:46:27.451651Z",
     "start_time": "2024-06-18T07:46:22.843930Z"
    }
   },
   "cell_type": "code",
   "source": "rag_chain.invoke(question)[\"relevance\"]",
   "id": "2fc1f27dfc81495b",
   "outputs": [
    {
     "data": {
      "text/plain": [
       "'yes'"
      ]
     },
     "execution_count": 63,
     "metadata": {},
     "output_type": "execute_result"
    }
   ],
   "execution_count": 63
  },
  {
   "metadata": {
    "ExecuteTime": {
     "end_time": "2024-06-18T08:03:54.808914Z",
     "start_time": "2024-06-18T08:03:44.987663Z"
    }
   },
   "cell_type": "code",
   "source": [
    "firstAnswerLlm = ChatOllama(model=\"llama3\", temperature=0)\n",
    "\n",
    "promptForFirstAnswer = PromptTemplate(\n",
    "    template=\"Answer the question based on provided context.\\n\\nQuestion: {question}\" + \"\\n\\nContext: \" + format_docs(searched_docs),\n",
    "    input_variables=[\"question\"],\n",
    "    partial_variables={},\n",
    ")\n",
    "\n",
    "rag_chain = (\n",
    "        { \"question\": RunnablePassthrough()}\n",
    "        | promptForFirstAnswer\n",
    "        | firstAnswerLlm\n",
    "        | StrOutputParser()\n",
    ")\n",
    "\n",
    "firstAnswer = rag_chain.invoke(question)\n",
    "firstAnswer"
   ],
   "id": "7cf679cf15d6cb8",
   "outputs": [
    {
     "data": {
      "text/plain": [
       "'Based on the context provided, I would answer the question \"agent memory\" as follows:\\n\\nIn the context of a LLM-powered autonomous agent system, agent memory refers to the ability of the agent to retain and recall information over extended periods. This is achieved through the use of both short-term and long-term memory mechanisms.\\n\\nShort-term memory allows the agent to learn in-context and adapt to new situations, whereas long-term memory enables the agent to retain a comprehensive list of agents\\' experiences in natural language, which can be retrieved based on relevance, recency, and importance. This long-term memory module is often referred to as an external database that records observations and events directly provided by the agent.\\n\\nThe reflection mechanism within the agent\\'s memory system synthesizes memories into higher-level inferences over time, guiding the agent\\'s future behavior and decision-making processes.'"
      ]
     },
     "execution_count": 76,
     "metadata": {},
     "output_type": "execute_result"
    }
   ],
   "execution_count": 76
  },
  {
   "metadata": {},
   "cell_type": "markdown",
   "source": "9. 생성된 답안에 Hallucination 이 있는지 평가하는 시스템 프롬프트 작성. LLM이 스스로 평가하도록 하고, hallucination 이 있으면 {‘hallucination’: ‘yes’} 없으면 {‘hallucination’: ‘no’} 라고 출력하도록 함  ",
   "id": "a2a4153825528d4f"
  },
  {
   "metadata": {
    "ExecuteTime": {
     "end_time": "2024-06-18T08:08:51.004717Z",
     "start_time": "2024-06-18T08:08:50.474934Z"
    }
   },
   "cell_type": "code",
   "source": [
    "promptForHallucinationCheck = PromptTemplate(\n",
    "    template=\"You are LLM hallucination detector. If the answer is hallucinated, output JSON hallucination\\\": \\\"yes\\\". If the answer is not hallucinated, output \\\"hallucination\\\": \\\"no\\\".\\n\\nAnswer: {answer}\",\n",
    "    input_variables=[\"answer\"],\n",
    "    partial_variables={},\n",
    ")\n",
    "\n",
    "rag_chain = (\n",
    "        { \"answer\": RunnablePassthrough()}\n",
    "        | promptForHallucinationCheck\n",
    "        | llm\n",
    "        | JsonOutputParser()\n",
    ")\n",
    "\n",
    "rag_chain.invoke(firstAnswer)"
   ],
   "id": "81ef3dc0c47ebdbb",
   "outputs": [
    {
     "data": {
      "text/plain": [
       "{'hallucination': 'no'}"
      ]
     },
     "execution_count": 79,
     "metadata": {},
     "output_type": "execute_result"
    }
   ],
   "execution_count": 79
  },
  {
   "metadata": {},
   "cell_type": "code",
   "outputs": [],
   "execution_count": null,
   "source": "",
   "id": "d0d15872b3de85f0"
  }
 ],
 "metadata": {
  "kernelspec": {
   "display_name": "Python 3",
   "language": "python",
   "name": "python3"
  },
  "language_info": {
   "codemirror_mode": {
    "name": "ipython",
    "version": 2
   },
   "file_extension": ".py",
   "mimetype": "text/x-python",
   "name": "python",
   "nbconvert_exporter": "python",
   "pygments_lexer": "ipython2",
   "version": "2.7.6"
  }
 },
 "nbformat": 4,
 "nbformat_minor": 5
}
